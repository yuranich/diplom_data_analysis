{
 "cells": [
  {
   "cell_type": "code",
   "execution_count": 1,
   "metadata": {
    "collapsed": true
   },
   "outputs": [],
   "source": [
    "import pandas as pd"
   ]
  },
  {
   "cell_type": "code",
   "execution_count": 3,
   "metadata": {
    "collapsed": false
   },
   "outputs": [
    {
     "data": {
      "text/html": [
       "<div>\n",
       "<table border=\"1\" class=\"dataframe\">\n",
       "  <thead>\n",
       "    <tr style=\"text-align: right;\">\n",
       "      <th></th>\n",
       "      <th>0</th>\n",
       "      <th>1</th>\n",
       "      <th>2</th>\n",
       "      <th>3</th>\n",
       "      <th>4</th>\n",
       "      <th>5</th>\n",
       "      <th>6</th>\n",
       "      <th>7</th>\n",
       "    </tr>\n",
       "  </thead>\n",
       "  <tbody>\n",
       "    <tr>\n",
       "      <th>0</th>\n",
       "      <td>150-3302</td>\n",
       "      <td>order:UP</td>\n",
       "      <td>2012-03-05</td>\n",
       "      <td>user</td>\n",
       "      <td>Order: UP</td>\n",
       "      <td>NaN</td>\n",
       "      <td>2859969</td>\n",
       "      <td>0</td>\n",
       "    </tr>\n",
       "    <tr>\n",
       "      <th>1</th>\n",
       "      <td>150-3302</td>\n",
       "      <td>order:DW</td>\n",
       "      <td>2011-07-19</td>\n",
       "      <td>user</td>\n",
       "      <td>Order: DW</td>\n",
       "      <td>NaN</td>\n",
       "      <td>2859970</td>\n",
       "      <td>0</td>\n",
       "    </tr>\n",
       "    <tr>\n",
       "      <th>2</th>\n",
       "      <td>150-3302</td>\n",
       "      <td>order:IN</td>\n",
       "      <td>2011-05-04</td>\n",
       "      <td>user</td>\n",
       "      <td>Order: IN</td>\n",
       "      <td>NaN</td>\n",
       "      <td>2859971</td>\n",
       "      <td>0</td>\n",
       "    </tr>\n",
       "    <tr>\n",
       "      <th>3</th>\n",
       "      <td>150-3302</td>\n",
       "      <td>order:NP</td>\n",
       "      <td>2015-07-01</td>\n",
       "      <td>user</td>\n",
       "      <td>Order: NP</td>\n",
       "      <td>NaN</td>\n",
       "      <td>2859972</td>\n",
       "      <td>0</td>\n",
       "    </tr>\n",
       "    <tr>\n",
       "      <th>4</th>\n",
       "      <td>150-3302</td>\n",
       "      <td>order:UP</td>\n",
       "      <td>2013-08-20</td>\n",
       "      <td>user</td>\n",
       "      <td>Order: UP</td>\n",
       "      <td>NaN</td>\n",
       "      <td>2859973</td>\n",
       "      <td>0</td>\n",
       "    </tr>\n",
       "  </tbody>\n",
       "</table>\n",
       "</div>"
      ],
      "text/plain": [
       "          0         1           2     3          4   5        6  7\n",
       "0  150-3302  order:UP  2012-03-05  user  Order: UP NaN  2859969  0\n",
       "1  150-3302  order:DW  2011-07-19  user  Order: DW NaN  2859970  0\n",
       "2  150-3302  order:IN  2011-05-04  user  Order: IN NaN  2859971  0\n",
       "3  150-3302  order:NP  2015-07-01  user  Order: NP NaN  2859972  0\n",
       "4  150-3302  order:UP  2013-08-20  user  Order: UP NaN  2859973  0"
      ]
     },
     "execution_count": 3,
     "metadata": {},
     "output_type": "execute_result"
    }
   ],
   "source": [
    "events = pd.read_csv(\"events_ful.csv\", header=None)\n",
    "events.head()"
   ]
  },
  {
   "cell_type": "code",
   "execution_count": 4,
   "metadata": {
    "collapsed": false
   },
   "outputs": [
    {
     "data": {
      "text/html": [
       "<div>\n",
       "<table border=\"1\" class=\"dataframe\">\n",
       "  <thead>\n",
       "    <tr style=\"text-align: right;\">\n",
       "      <th></th>\n",
       "      <th>0</th>\n",
       "      <th>1</th>\n",
       "      <th>2</th>\n",
       "      <th>3</th>\n",
       "      <th>4</th>\n",
       "      <th>6</th>\n",
       "      <th>7</th>\n",
       "    </tr>\n",
       "  </thead>\n",
       "  <tbody>\n",
       "    <tr>\n",
       "      <th>0</th>\n",
       "      <td>150-3302</td>\n",
       "      <td>order:UP</td>\n",
       "      <td>2012-03-05</td>\n",
       "      <td>user</td>\n",
       "      <td>Order: UP</td>\n",
       "      <td>2859969</td>\n",
       "      <td>0</td>\n",
       "    </tr>\n",
       "    <tr>\n",
       "      <th>1</th>\n",
       "      <td>150-3302</td>\n",
       "      <td>order:DW</td>\n",
       "      <td>2011-07-19</td>\n",
       "      <td>user</td>\n",
       "      <td>Order: DW</td>\n",
       "      <td>2859970</td>\n",
       "      <td>0</td>\n",
       "    </tr>\n",
       "    <tr>\n",
       "      <th>2</th>\n",
       "      <td>150-3302</td>\n",
       "      <td>order:IN</td>\n",
       "      <td>2011-05-04</td>\n",
       "      <td>user</td>\n",
       "      <td>Order: IN</td>\n",
       "      <td>2859971</td>\n",
       "      <td>0</td>\n",
       "    </tr>\n",
       "    <tr>\n",
       "      <th>3</th>\n",
       "      <td>150-3302</td>\n",
       "      <td>order:NP</td>\n",
       "      <td>2015-07-01</td>\n",
       "      <td>user</td>\n",
       "      <td>Order: NP</td>\n",
       "      <td>2859972</td>\n",
       "      <td>0</td>\n",
       "    </tr>\n",
       "    <tr>\n",
       "      <th>4</th>\n",
       "      <td>150-3302</td>\n",
       "      <td>order:UP</td>\n",
       "      <td>2013-08-20</td>\n",
       "      <td>user</td>\n",
       "      <td>Order: UP</td>\n",
       "      <td>2859973</td>\n",
       "      <td>0</td>\n",
       "    </tr>\n",
       "  </tbody>\n",
       "</table>\n",
       "</div>"
      ],
      "text/plain": [
       "          0         1           2     3          4        6  7\n",
       "0  150-3302  order:UP  2012-03-05  user  Order: UP  2859969  0\n",
       "1  150-3302  order:DW  2011-07-19  user  Order: DW  2859970  0\n",
       "2  150-3302  order:IN  2011-05-04  user  Order: IN  2859971  0\n",
       "3  150-3302  order:NP  2015-07-01  user  Order: NP  2859972  0\n",
       "4  150-3302  order:UP  2013-08-20  user  Order: UP  2859973  0"
      ]
     },
     "execution_count": 4,
     "metadata": {},
     "output_type": "execute_result"
    }
   ],
   "source": [
    "events.drop(5, axis=1, inplace=True)\n",
    "events.head()"
   ]
  },
  {
   "cell_type": "code",
   "execution_count": 5,
   "metadata": {
    "collapsed": false
   },
   "outputs": [
    {
     "data": {
      "text/html": [
       "<div>\n",
       "<table border=\"1\" class=\"dataframe\">\n",
       "  <thead>\n",
       "    <tr style=\"text-align: right;\">\n",
       "      <th></th>\n",
       "      <th>case_id</th>\n",
       "      <th>activity_name</th>\n",
       "      <th>timestamp</th>\n",
       "      <th>resource</th>\n",
       "      <th>description</th>\n",
       "      <th>event_id</th>\n",
       "      <th>transactional</th>\n",
       "    </tr>\n",
       "  </thead>\n",
       "  <tbody>\n",
       "    <tr>\n",
       "      <th>0</th>\n",
       "      <td>150-3302</td>\n",
       "      <td>order:UP</td>\n",
       "      <td>2012-03-05</td>\n",
       "      <td>user</td>\n",
       "      <td>Order: UP</td>\n",
       "      <td>2859969</td>\n",
       "      <td>0</td>\n",
       "    </tr>\n",
       "    <tr>\n",
       "      <th>1</th>\n",
       "      <td>150-3302</td>\n",
       "      <td>order:DW</td>\n",
       "      <td>2011-07-19</td>\n",
       "      <td>user</td>\n",
       "      <td>Order: DW</td>\n",
       "      <td>2859970</td>\n",
       "      <td>0</td>\n",
       "    </tr>\n",
       "    <tr>\n",
       "      <th>2</th>\n",
       "      <td>150-3302</td>\n",
       "      <td>order:IN</td>\n",
       "      <td>2011-05-04</td>\n",
       "      <td>user</td>\n",
       "      <td>Order: IN</td>\n",
       "      <td>2859971</td>\n",
       "      <td>0</td>\n",
       "    </tr>\n",
       "    <tr>\n",
       "      <th>3</th>\n",
       "      <td>150-3302</td>\n",
       "      <td>order:NP</td>\n",
       "      <td>2015-07-01</td>\n",
       "      <td>user</td>\n",
       "      <td>Order: NP</td>\n",
       "      <td>2859972</td>\n",
       "      <td>0</td>\n",
       "    </tr>\n",
       "    <tr>\n",
       "      <th>4</th>\n",
       "      <td>150-3302</td>\n",
       "      <td>order:UP</td>\n",
       "      <td>2013-08-20</td>\n",
       "      <td>user</td>\n",
       "      <td>Order: UP</td>\n",
       "      <td>2859973</td>\n",
       "      <td>0</td>\n",
       "    </tr>\n",
       "  </tbody>\n",
       "</table>\n",
       "</div>"
      ],
      "text/plain": [
       "    case_id activity_name   timestamp resource description  event_id  \\\n",
       "0  150-3302      order:UP  2012-03-05     user   Order: UP   2859969   \n",
       "1  150-3302      order:DW  2011-07-19     user   Order: DW   2859970   \n",
       "2  150-3302      order:IN  2011-05-04     user   Order: IN   2859971   \n",
       "3  150-3302      order:NP  2015-07-01     user   Order: NP   2859972   \n",
       "4  150-3302      order:UP  2013-08-20     user   Order: UP   2859973   \n",
       "\n",
       "   transactional  \n",
       "0              0  \n",
       "1              0  \n",
       "2              0  \n",
       "3              0  \n",
       "4              0  "
      ]
     },
     "execution_count": 5,
     "metadata": {},
     "output_type": "execute_result"
    }
   ],
   "source": [
    "events.columns = ['case_id', 'activity_name', 'timestamp', 'resource', 'description', 'event_id', 'transactional']\n",
    "events.head()"
   ]
  },
  {
   "cell_type": "code",
   "execution_count": 6,
   "metadata": {
    "collapsed": false
   },
   "outputs": [
    {
     "name": "stdout",
     "output_type": "stream",
     "text": [
      "<class 'pandas.core.frame.DataFrame'>\n",
      "RangeIndex: 650734 entries, 0 to 650733\n",
      "Data columns (total 7 columns):\n",
      "case_id          650734 non-null object\n",
      "activity_name    650734 non-null object\n",
      "timestamp        650734 non-null object\n",
      "resource         650734 non-null object\n",
      "description      650734 non-null object\n",
      "event_id         650734 non-null int64\n",
      "transactional    650734 non-null int64\n",
      "dtypes: int64(2), object(5)\n",
      "memory usage: 34.8+ MB\n"
     ]
    }
   ],
   "source": [
    "events.info()"
   ]
  },
  {
   "cell_type": "code",
   "execution_count": 7,
   "metadata": {
    "collapsed": true
   },
   "outputs": [],
   "source": [
    "events.to_csv(\"events_prepared.csv\")"
   ]
  },
  {
   "cell_type": "code",
   "execution_count": 9,
   "metadata": {
    "collapsed": false
   },
   "outputs": [
    {
     "data": {
      "text/html": [
       "<div>\n",
       "<table border=\"1\" class=\"dataframe\">\n",
       "  <thead>\n",
       "    <tr style=\"text-align: right;\">\n",
       "      <th></th>\n",
       "      <th>case_id</th>\n",
       "      <th>activity_name</th>\n",
       "      <th>timestamp</th>\n",
       "      <th>resource</th>\n",
       "      <th>description</th>\n",
       "      <th>transactional</th>\n",
       "    </tr>\n",
       "    <tr>\n",
       "      <th>event_id</th>\n",
       "      <th></th>\n",
       "      <th></th>\n",
       "      <th></th>\n",
       "      <th></th>\n",
       "      <th></th>\n",
       "      <th></th>\n",
       "    </tr>\n",
       "  </thead>\n",
       "  <tbody>\n",
       "    <tr>\n",
       "      <th>2859969</th>\n",
       "      <td>150-3302</td>\n",
       "      <td>order:UP</td>\n",
       "      <td>2012-03-05</td>\n",
       "      <td>user</td>\n",
       "      <td>Order: UP</td>\n",
       "      <td>0</td>\n",
       "    </tr>\n",
       "    <tr>\n",
       "      <th>2859970</th>\n",
       "      <td>150-3302</td>\n",
       "      <td>order:DW</td>\n",
       "      <td>2011-07-19</td>\n",
       "      <td>user</td>\n",
       "      <td>Order: DW</td>\n",
       "      <td>0</td>\n",
       "    </tr>\n",
       "    <tr>\n",
       "      <th>2859971</th>\n",
       "      <td>150-3302</td>\n",
       "      <td>order:IN</td>\n",
       "      <td>2011-05-04</td>\n",
       "      <td>user</td>\n",
       "      <td>Order: IN</td>\n",
       "      <td>0</td>\n",
       "    </tr>\n",
       "    <tr>\n",
       "      <th>2859972</th>\n",
       "      <td>150-3302</td>\n",
       "      <td>order:NP</td>\n",
       "      <td>2015-07-01</td>\n",
       "      <td>user</td>\n",
       "      <td>Order: NP</td>\n",
       "      <td>0</td>\n",
       "    </tr>\n",
       "    <tr>\n",
       "      <th>2859973</th>\n",
       "      <td>150-3302</td>\n",
       "      <td>order:UP</td>\n",
       "      <td>2013-08-20</td>\n",
       "      <td>user</td>\n",
       "      <td>Order: UP</td>\n",
       "      <td>0</td>\n",
       "    </tr>\n",
       "  </tbody>\n",
       "</table>\n",
       "</div>"
      ],
      "text/plain": [
       "           case_id activity_name   timestamp resource description  \\\n",
       "event_id                                                            \n",
       "2859969   150-3302      order:UP  2012-03-05     user   Order: UP   \n",
       "2859970   150-3302      order:DW  2011-07-19     user   Order: DW   \n",
       "2859971   150-3302      order:IN  2011-05-04     user   Order: IN   \n",
       "2859972   150-3302      order:NP  2015-07-01     user   Order: NP   \n",
       "2859973   150-3302      order:UP  2013-08-20     user   Order: UP   \n",
       "\n",
       "          transactional  \n",
       "event_id                 \n",
       "2859969               0  \n",
       "2859970               0  \n",
       "2859971               0  \n",
       "2859972               0  \n",
       "2859973               0  "
      ]
     },
     "execution_count": 9,
     "metadata": {},
     "output_type": "execute_result"
    }
   ],
   "source": [
    "events.set_index('event_id', inplace=True)\n",
    "events.head()"
   ]
  },
  {
   "cell_type": "code",
   "execution_count": 10,
   "metadata": {
    "collapsed": true
   },
   "outputs": [],
   "source": [
    "events.to_csv(\"events_prepared.csv\")"
   ]
  },
  {
   "cell_type": "code",
   "execution_count": 12,
   "metadata": {
    "collapsed": false
   },
   "outputs": [
    {
     "name": "stdout",
     "output_type": "stream",
     "text": [
      "<class 'pandas.core.frame.DataFrame'>\n",
      "Int64Index: 650734 entries, 2859969 to 3557175\n",
      "Data columns (total 6 columns):\n",
      "case_id          650734 non-null object\n",
      "activity_name    650734 non-null object\n",
      "timestamp        650734 non-null datetime64[ns]\n",
      "resource         650734 non-null object\n",
      "description      650734 non-null object\n",
      "transactional    650734 non-null int64\n",
      "dtypes: datetime64[ns](1), int64(1), object(4)\n",
      "memory usage: 34.8+ MB\n"
     ]
    }
   ],
   "source": [
    "events.timestamp = events.timestamp.astype('datetime64')\n",
    "events.info()"
   ]
  },
  {
   "cell_type": "code",
   "execution_count": 13,
   "metadata": {
    "collapsed": false
   },
   "outputs": [
    {
     "data": {
      "text/html": [
       "<div>\n",
       "<table border=\"1\" class=\"dataframe\">\n",
       "  <thead>\n",
       "    <tr style=\"text-align: right;\">\n",
       "      <th></th>\n",
       "      <th>case_id</th>\n",
       "      <th>activity_name</th>\n",
       "      <th>timestamp</th>\n",
       "      <th>resource</th>\n",
       "      <th>description</th>\n",
       "      <th>transactional</th>\n",
       "    </tr>\n",
       "    <tr>\n",
       "      <th>event_id</th>\n",
       "      <th></th>\n",
       "      <th></th>\n",
       "      <th></th>\n",
       "      <th></th>\n",
       "      <th></th>\n",
       "      <th></th>\n",
       "    </tr>\n",
       "  </thead>\n",
       "  <tbody>\n",
       "    <tr>\n",
       "      <th>2859969</th>\n",
       "      <td>150-3302</td>\n",
       "      <td>order:UP</td>\n",
       "      <td>2012-03-05</td>\n",
       "      <td>user</td>\n",
       "      <td>Order: UP</td>\n",
       "      <td>0</td>\n",
       "    </tr>\n",
       "    <tr>\n",
       "      <th>2859970</th>\n",
       "      <td>150-3302</td>\n",
       "      <td>order:DW</td>\n",
       "      <td>2011-07-19</td>\n",
       "      <td>user</td>\n",
       "      <td>Order: DW</td>\n",
       "      <td>0</td>\n",
       "    </tr>\n",
       "    <tr>\n",
       "      <th>2859971</th>\n",
       "      <td>150-3302</td>\n",
       "      <td>order:IN</td>\n",
       "      <td>2011-05-04</td>\n",
       "      <td>user</td>\n",
       "      <td>Order: IN</td>\n",
       "      <td>0</td>\n",
       "    </tr>\n",
       "    <tr>\n",
       "      <th>2859972</th>\n",
       "      <td>150-3302</td>\n",
       "      <td>order:NP</td>\n",
       "      <td>2015-07-01</td>\n",
       "      <td>user</td>\n",
       "      <td>Order: NP</td>\n",
       "      <td>0</td>\n",
       "    </tr>\n",
       "    <tr>\n",
       "      <th>2859973</th>\n",
       "      <td>150-3302</td>\n",
       "      <td>order:UP</td>\n",
       "      <td>2013-08-20</td>\n",
       "      <td>user</td>\n",
       "      <td>Order: UP</td>\n",
       "      <td>0</td>\n",
       "    </tr>\n",
       "  </tbody>\n",
       "</table>\n",
       "</div>"
      ],
      "text/plain": [
       "           case_id activity_name  timestamp resource description  \\\n",
       "event_id                                                           \n",
       "2859969   150-3302      order:UP 2012-03-05     user   Order: UP   \n",
       "2859970   150-3302      order:DW 2011-07-19     user   Order: DW   \n",
       "2859971   150-3302      order:IN 2011-05-04     user   Order: IN   \n",
       "2859972   150-3302      order:NP 2015-07-01     user   Order: NP   \n",
       "2859973   150-3302      order:UP 2013-08-20     user   Order: UP   \n",
       "\n",
       "          transactional  \n",
       "event_id                 \n",
       "2859969               0  \n",
       "2859970               0  \n",
       "2859971               0  \n",
       "2859972               0  \n",
       "2859973               0  "
      ]
     },
     "execution_count": 13,
     "metadata": {},
     "output_type": "execute_result"
    }
   ],
   "source": [
    "events.head()"
   ]
  },
  {
   "cell_type": "code",
   "execution_count": 15,
   "metadata": {
    "collapsed": false
   },
   "outputs": [
    {
     "name": "stdout",
     "output_type": "stream",
     "text": [
      "<class 'pandas.core.frame.DataFrame'>\n",
      "Int64Index: 586179 entries, 2859969 to 3557175\n",
      "Data columns (total 6 columns):\n",
      "case_id          586179 non-null object\n",
      "activity_name    586179 non-null object\n",
      "timestamp        586179 non-null datetime64[ns]\n",
      "resource         586179 non-null object\n",
      "description      586179 non-null object\n",
      "transactional    586179 non-null int64\n",
      "dtypes: datetime64[ns](1), int64(1), object(4)\n",
      "memory usage: 31.3+ MB\n"
     ]
    }
   ],
   "source": [
    "import datetime\n",
    "lastDate = datetime.date(year=2039,month=1,day=1)\n",
    "events_filtered = events[events.timestamp < lastDate]\n",
    "events_filtered.info()"
   ]
  },
  {
   "cell_type": "code",
   "execution_count": 16,
   "metadata": {
    "collapsed": true
   },
   "outputs": [],
   "source": [
    "events_filtered.to_csv(\"events_without_promo_end.csv\")"
   ]
  }
 ],
 "metadata": {
  "kernelspec": {
   "display_name": "Python 2",
   "language": "python",
   "name": "python2"
  },
  "language_info": {
   "codemirror_mode": {
    "name": "ipython",
    "version": 2
   },
   "file_extension": ".py",
   "mimetype": "text/x-python",
   "name": "python",
   "nbconvert_exporter": "python",
   "pygments_lexer": "ipython2",
   "version": "2.7.11"
  }
 },
 "nbformat": 4,
 "nbformat_minor": 0
}
