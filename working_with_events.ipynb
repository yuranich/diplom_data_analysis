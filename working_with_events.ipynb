{
 "cells": [
  {
   "cell_type": "code",
   "execution_count": 1,
   "metadata": {
    "collapsed": true
   },
   "outputs": [],
   "source": [
    "import pandas as pd"
   ]
  },
  {
   "cell_type": "code",
   "execution_count": 20,
   "metadata": {
    "collapsed": false
   },
   "outputs": [
    {
     "data": {
      "text/html": [
       "<div>\n",
       "<table border=\"1\" class=\"dataframe\">\n",
       "  <thead>\n",
       "    <tr style=\"text-align: right;\">\n",
       "      <th></th>\n",
       "      <th>account</th>\n",
       "      <th>action</th>\n",
       "      <th>date</th>\n",
       "      <th>source</th>\n",
       "      <th>details</th>\n",
       "      <th>event</th>\n",
       "      <th>churn</th>\n",
       "    </tr>\n",
       "  </thead>\n",
       "  <tbody>\n",
       "    <tr>\n",
       "      <th>0</th>\n",
       "      <td>150-3302</td>\n",
       "      <td>order:UP</td>\n",
       "      <td>2012-03-05</td>\n",
       "      <td>user</td>\n",
       "      <td>Order: UP</td>\n",
       "      <td>2859969</td>\n",
       "      <td>0</td>\n",
       "    </tr>\n",
       "    <tr>\n",
       "      <th>1</th>\n",
       "      <td>150-3302</td>\n",
       "      <td>order:DW</td>\n",
       "      <td>2011-07-19</td>\n",
       "      <td>user</td>\n",
       "      <td>Order: DW</td>\n",
       "      <td>2859970</td>\n",
       "      <td>0</td>\n",
       "    </tr>\n",
       "    <tr>\n",
       "      <th>2</th>\n",
       "      <td>150-3302</td>\n",
       "      <td>order:IN</td>\n",
       "      <td>2011-05-04</td>\n",
       "      <td>user</td>\n",
       "      <td>Order: IN</td>\n",
       "      <td>2859971</td>\n",
       "      <td>0</td>\n",
       "    </tr>\n",
       "    <tr>\n",
       "      <th>3</th>\n",
       "      <td>150-3302</td>\n",
       "      <td>order:NP</td>\n",
       "      <td>2015-07-01</td>\n",
       "      <td>user</td>\n",
       "      <td>Order: NP</td>\n",
       "      <td>2859972</td>\n",
       "      <td>0</td>\n",
       "    </tr>\n",
       "    <tr>\n",
       "      <th>4</th>\n",
       "      <td>150-3302</td>\n",
       "      <td>order:UP</td>\n",
       "      <td>2013-08-20</td>\n",
       "      <td>user</td>\n",
       "      <td>Order: UP</td>\n",
       "      <td>2859973</td>\n",
       "      <td>0</td>\n",
       "    </tr>\n",
       "  </tbody>\n",
       "</table>\n",
       "</div>"
      ],
      "text/plain": [
       "    account    action        date source    details    event  churn\n",
       "0  150-3302  order:UP  2012-03-05   user  Order: UP  2859969      0\n",
       "1  150-3302  order:DW  2011-07-19   user  Order: DW  2859970      0\n",
       "2  150-3302  order:IN  2011-05-04   user  Order: IN  2859971      0\n",
       "3  150-3302  order:NP  2015-07-01   user  Order: NP  2859972      0\n",
       "4  150-3302  order:UP  2013-08-20   user  Order: UP  2859973      0"
      ]
     },
     "execution_count": 20,
     "metadata": {},
     "output_type": "execute_result"
    }
   ],
   "source": [
    "events = pd.read_csv(\"events_ful.csv\", header=None)\n",
    "events.drop(5, axis=1, inplace=True)\n",
    "events.columns = ['account', 'action', 'date', 'source', 'details', 'event', 'churn']\n",
    "events.head()"
   ]
  },
  {
   "cell_type": "code",
   "execution_count": 3,
   "metadata": {
    "collapsed": false
   },
   "outputs": [
    {
     "name": "stdout",
     "output_type": "stream",
     "text": [
      "<class 'pandas.core.frame.DataFrame'>\n",
      "RangeIndex: 650734 entries, 0 to 650733\n",
      "Data columns (total 7 columns):\n",
      "account    650734 non-null object\n",
      "action     650734 non-null object\n",
      "date       650734 non-null object\n",
      "source     650734 non-null object\n",
      "details    650734 non-null object\n",
      "event      650734 non-null int64\n",
      "churn      650734 non-null int64\n",
      "dtypes: int64(2), object(5)\n",
      "memory usage: 34.8+ MB\n"
     ]
    }
   ],
   "source": [
    "events.info()"
   ]
  },
  {
   "cell_type": "code",
   "execution_count": 6,
   "metadata": {
    "collapsed": false,
    "scrolled": true
   },
   "outputs": [
    {
     "data": {
      "text/html": [
       "<div>\n",
       "<table border=\"1\" class=\"dataframe\">\n",
       "  <thead>\n",
       "    <tr style=\"text-align: right;\">\n",
       "      <th></th>\n",
       "      <th>Call:Add Services</th>\n",
       "      <th>Call:Adding Wifi Device</th>\n",
       "      <th>Call:Balance Question</th>\n",
       "      <th>Call:Bill Looks Different</th>\n",
       "      <th>Call:Bill Question</th>\n",
       "      <th>Call:Change Info</th>\n",
       "      <th>Call:Check on Status</th>\n",
       "      <th>Call:Checking on shipment</th>\n",
       "      <th>Call:Downgrade</th>\n",
       "      <th>Call:Email Issues</th>\n",
       "      <th>...</th>\n",
       "      <th>transaction_change:R:-:high</th>\n",
       "      <th>transaction_change:R:-:low</th>\n",
       "      <th>transaction_change:R:-:medium</th>\n",
       "      <th>transaction_change:U:+:extreme</th>\n",
       "      <th>transaction_change:U:+:high</th>\n",
       "      <th>transaction_change:U:+:low</th>\n",
       "      <th>transaction_change:U:+:medium</th>\n",
       "      <th>transaction_change:U:-:high</th>\n",
       "      <th>transaction_change:U:-:low</th>\n",
       "      <th>transaction_change:U:-:medium</th>\n",
       "    </tr>\n",
       "  </thead>\n",
       "  <tbody>\n",
       "    <tr>\n",
       "      <th>0</th>\n",
       "      <td>0.0</td>\n",
       "      <td>0.0</td>\n",
       "      <td>0.0</td>\n",
       "      <td>0.0</td>\n",
       "      <td>0.0</td>\n",
       "      <td>0.0</td>\n",
       "      <td>0.0</td>\n",
       "      <td>0.0</td>\n",
       "      <td>0.0</td>\n",
       "      <td>0.0</td>\n",
       "      <td>...</td>\n",
       "      <td>0.0</td>\n",
       "      <td>0.0</td>\n",
       "      <td>0.0</td>\n",
       "      <td>0.0</td>\n",
       "      <td>0.0</td>\n",
       "      <td>0.0</td>\n",
       "      <td>0.0</td>\n",
       "      <td>0.0</td>\n",
       "      <td>0.0</td>\n",
       "      <td>0.0</td>\n",
       "    </tr>\n",
       "    <tr>\n",
       "      <th>1</th>\n",
       "      <td>0.0</td>\n",
       "      <td>0.0</td>\n",
       "      <td>0.0</td>\n",
       "      <td>0.0</td>\n",
       "      <td>0.0</td>\n",
       "      <td>0.0</td>\n",
       "      <td>0.0</td>\n",
       "      <td>0.0</td>\n",
       "      <td>0.0</td>\n",
       "      <td>0.0</td>\n",
       "      <td>...</td>\n",
       "      <td>0.0</td>\n",
       "      <td>0.0</td>\n",
       "      <td>0.0</td>\n",
       "      <td>0.0</td>\n",
       "      <td>0.0</td>\n",
       "      <td>0.0</td>\n",
       "      <td>0.0</td>\n",
       "      <td>0.0</td>\n",
       "      <td>0.0</td>\n",
       "      <td>0.0</td>\n",
       "    </tr>\n",
       "    <tr>\n",
       "      <th>2</th>\n",
       "      <td>0.0</td>\n",
       "      <td>0.0</td>\n",
       "      <td>0.0</td>\n",
       "      <td>0.0</td>\n",
       "      <td>0.0</td>\n",
       "      <td>0.0</td>\n",
       "      <td>0.0</td>\n",
       "      <td>0.0</td>\n",
       "      <td>0.0</td>\n",
       "      <td>0.0</td>\n",
       "      <td>...</td>\n",
       "      <td>0.0</td>\n",
       "      <td>0.0</td>\n",
       "      <td>0.0</td>\n",
       "      <td>0.0</td>\n",
       "      <td>0.0</td>\n",
       "      <td>0.0</td>\n",
       "      <td>0.0</td>\n",
       "      <td>0.0</td>\n",
       "      <td>0.0</td>\n",
       "      <td>0.0</td>\n",
       "    </tr>\n",
       "    <tr>\n",
       "      <th>3</th>\n",
       "      <td>0.0</td>\n",
       "      <td>0.0</td>\n",
       "      <td>0.0</td>\n",
       "      <td>0.0</td>\n",
       "      <td>0.0</td>\n",
       "      <td>0.0</td>\n",
       "      <td>0.0</td>\n",
       "      <td>0.0</td>\n",
       "      <td>0.0</td>\n",
       "      <td>0.0</td>\n",
       "      <td>...</td>\n",
       "      <td>0.0</td>\n",
       "      <td>0.0</td>\n",
       "      <td>0.0</td>\n",
       "      <td>0.0</td>\n",
       "      <td>0.0</td>\n",
       "      <td>0.0</td>\n",
       "      <td>0.0</td>\n",
       "      <td>0.0</td>\n",
       "      <td>0.0</td>\n",
       "      <td>0.0</td>\n",
       "    </tr>\n",
       "    <tr>\n",
       "      <th>4</th>\n",
       "      <td>0.0</td>\n",
       "      <td>0.0</td>\n",
       "      <td>0.0</td>\n",
       "      <td>0.0</td>\n",
       "      <td>0.0</td>\n",
       "      <td>0.0</td>\n",
       "      <td>0.0</td>\n",
       "      <td>0.0</td>\n",
       "      <td>0.0</td>\n",
       "      <td>0.0</td>\n",
       "      <td>...</td>\n",
       "      <td>0.0</td>\n",
       "      <td>0.0</td>\n",
       "      <td>0.0</td>\n",
       "      <td>0.0</td>\n",
       "      <td>0.0</td>\n",
       "      <td>0.0</td>\n",
       "      <td>0.0</td>\n",
       "      <td>0.0</td>\n",
       "      <td>0.0</td>\n",
       "      <td>0.0</td>\n",
       "    </tr>\n",
       "  </tbody>\n",
       "</table>\n",
       "<p>5 rows × 103 columns</p>\n",
       "</div>"
      ],
      "text/plain": [
       "   Call:Add Services  Call:Adding Wifi Device  Call:Balance Question  \\\n",
       "0                0.0                      0.0                    0.0   \n",
       "1                0.0                      0.0                    0.0   \n",
       "2                0.0                      0.0                    0.0   \n",
       "3                0.0                      0.0                    0.0   \n",
       "4                0.0                      0.0                    0.0   \n",
       "\n",
       "   Call:Bill Looks Different  Call:Bill Question  Call:Change Info  \\\n",
       "0                        0.0                 0.0               0.0   \n",
       "1                        0.0                 0.0               0.0   \n",
       "2                        0.0                 0.0               0.0   \n",
       "3                        0.0                 0.0               0.0   \n",
       "4                        0.0                 0.0               0.0   \n",
       "\n",
       "   Call:Check on Status  Call:Checking on shipment  Call:Downgrade  \\\n",
       "0                   0.0                        0.0             0.0   \n",
       "1                   0.0                        0.0             0.0   \n",
       "2                   0.0                        0.0             0.0   \n",
       "3                   0.0                        0.0             0.0   \n",
       "4                   0.0                        0.0             0.0   \n",
       "\n",
       "   Call:Email Issues              ...                \\\n",
       "0                0.0              ...                 \n",
       "1                0.0              ...                 \n",
       "2                0.0              ...                 \n",
       "3                0.0              ...                 \n",
       "4                0.0              ...                 \n",
       "\n",
       "   transaction_change:R:-:high  transaction_change:R:-:low  \\\n",
       "0                          0.0                         0.0   \n",
       "1                          0.0                         0.0   \n",
       "2                          0.0                         0.0   \n",
       "3                          0.0                         0.0   \n",
       "4                          0.0                         0.0   \n",
       "\n",
       "   transaction_change:R:-:medium  transaction_change:U:+:extreme  \\\n",
       "0                            0.0                             0.0   \n",
       "1                            0.0                             0.0   \n",
       "2                            0.0                             0.0   \n",
       "3                            0.0                             0.0   \n",
       "4                            0.0                             0.0   \n",
       "\n",
       "   transaction_change:U:+:high  transaction_change:U:+:low  \\\n",
       "0                          0.0                         0.0   \n",
       "1                          0.0                         0.0   \n",
       "2                          0.0                         0.0   \n",
       "3                          0.0                         0.0   \n",
       "4                          0.0                         0.0   \n",
       "\n",
       "   transaction_change:U:+:medium  transaction_change:U:-:high  \\\n",
       "0                            0.0                          0.0   \n",
       "1                            0.0                          0.0   \n",
       "2                            0.0                          0.0   \n",
       "3                            0.0                          0.0   \n",
       "4                            0.0                          0.0   \n",
       "\n",
       "   transaction_change:U:-:low  transaction_change:U:-:medium  \n",
       "0                         0.0                            0.0  \n",
       "1                         0.0                            0.0  \n",
       "2                         0.0                            0.0  \n",
       "3                         0.0                            0.0  \n",
       "4                         0.0                            0.0  \n",
       "\n",
       "[5 rows x 103 columns]"
      ]
     },
     "execution_count": 6,
     "metadata": {},
     "output_type": "execute_result"
    }
   ],
   "source": [
    "binary = pd.get_dummies(events.action)\n",
    "binary.head()"
   ]
  },
  {
   "cell_type": "code",
   "execution_count": 9,
   "metadata": {
    "collapsed": false
   },
   "outputs": [
    {
     "data": {
      "text/plain": [
       "400-30269601     325\n",
       "400-58046101     287\n",
       "106-431505908    275\n",
       "400-56087902     262\n",
       "106-600100201    261\n",
       "400-614165406    249\n",
       "106-431567804    244\n",
       "400-53002303     244\n",
       "106-240618809    243\n",
       "400-32047801     236\n",
       "400-612810901    227\n",
       "400-29986402     222\n",
       "106-240352305    221\n",
       "106-110774802    219\n",
       "150-88703602     217\n",
       "400-22578201     213\n",
       "150-48882607     211\n",
       "400-22538701     209\n",
       "400-22487304     209\n",
       "400-17658901     208\n",
       "106-260096601    205\n",
       "400-21790102     204\n",
       "106-240933504    203\n",
       "400-44390501     203\n",
       "400-17604801     203\n",
       "811-610147902    202\n",
       "400-19799101     201\n",
       "400-46370602     198\n",
       "400-42674202     198\n",
       "811-612800001    198\n",
       "                ... \n",
       "150-49138903       3\n",
       "150-114079408      3\n",
       "150-69563107       3\n",
       "150-118673101      3\n",
       "150-100903407      3\n",
       "150-49519714       3\n",
       "150-110327517      3\n",
       "150-53981413       3\n",
       "150-111257602      3\n",
       "150-110419306      3\n",
       "150-87360405       3\n",
       "150-114040911      3\n",
       "150-119944802      3\n",
       "150-55551513       3\n",
       "150-244707004      3\n",
       "150-10897619       3\n",
       "150-8507102        2\n",
       "150-89666811       2\n",
       "811-623817202      2\n",
       "150-118545906      2\n",
       "150-537811         2\n",
       "150-7584319        2\n",
       "150-69159717       2\n",
       "106-281054708      2\n",
       "150-9535007        2\n",
       "150-82310812       2\n",
       "150-47863122       2\n",
       "150-46623323       2\n",
       "150-8696206        2\n",
       "400-28462602       1\n",
       "Name: account, dtype: int64"
      ]
     },
     "execution_count": 9,
     "metadata": {},
     "output_type": "execute_result"
    }
   ],
   "source": [
    "events.account.value_counts()"
   ]
  },
  {
   "cell_type": "code",
   "execution_count": 10,
   "metadata": {
    "collapsed": false
   },
   "outputs": [
    {
     "data": {
      "text/html": [
       "<div>\n",
       "<table border=\"1\" class=\"dataframe\">\n",
       "  <thead>\n",
       "    <tr style=\"text-align: right;\">\n",
       "      <th></th>\n",
       "      <th>account</th>\n",
       "      <th>action</th>\n",
       "      <th>date</th>\n",
       "      <th>source</th>\n",
       "      <th>details</th>\n",
       "      <th>event</th>\n",
       "      <th>churn</th>\n",
       "    </tr>\n",
       "  </thead>\n",
       "  <tbody>\n",
       "    <tr>\n",
       "      <th>68398</th>\n",
       "      <td>400-30269601</td>\n",
       "      <td>rate_changes</td>\n",
       "      <td>2014-10-27</td>\n",
       "      <td>system</td>\n",
       "      <td>Rate change from 45.0 to 65.0 service: HSDBASE</td>\n",
       "      <td>2933565</td>\n",
       "      <td>0</td>\n",
       "    </tr>\n",
       "    <tr>\n",
       "      <th>68399</th>\n",
       "      <td>400-30269601</td>\n",
       "      <td>rate_changes</td>\n",
       "      <td>2014-10-27</td>\n",
       "      <td>system</td>\n",
       "      <td>Rate change from 48.0 to 45.0 service: SP05000</td>\n",
       "      <td>2933566</td>\n",
       "      <td>0</td>\n",
       "    </tr>\n",
       "    <tr>\n",
       "      <th>68400</th>\n",
       "      <td>400-30269601</td>\n",
       "      <td>peak:P:+</td>\n",
       "      <td>2015-02-10</td>\n",
       "      <td>system</td>\n",
       "      <td>Abrupt change: 190.0</td>\n",
       "      <td>2933567</td>\n",
       "      <td>0</td>\n",
       "    </tr>\n",
       "    <tr>\n",
       "      <th>68401</th>\n",
       "      <td>400-30269601</td>\n",
       "      <td>peak:R:-</td>\n",
       "      <td>2014-12-21</td>\n",
       "      <td>system</td>\n",
       "      <td>Abrupt change: 155.09</td>\n",
       "      <td>2933571</td>\n",
       "      <td>0</td>\n",
       "    </tr>\n",
       "    <tr>\n",
       "      <th>68402</th>\n",
       "      <td>400-30269601</td>\n",
       "      <td>peak:R:+</td>\n",
       "      <td>2015-08-21</td>\n",
       "      <td>system</td>\n",
       "      <td>Abrupt change: 177.16</td>\n",
       "      <td>2933572</td>\n",
       "      <td>0</td>\n",
       "    </tr>\n",
       "  </tbody>\n",
       "</table>\n",
       "</div>"
      ],
      "text/plain": [
       "            account        action        date  source  \\\n",
       "68398  400-30269601  rate_changes  2014-10-27  system   \n",
       "68399  400-30269601  rate_changes  2014-10-27  system   \n",
       "68400  400-30269601      peak:P:+  2015-02-10  system   \n",
       "68401  400-30269601      peak:R:-  2014-12-21  system   \n",
       "68402  400-30269601      peak:R:+  2015-08-21  system   \n",
       "\n",
       "                                              details    event  churn  \n",
       "68398  Rate change from 45.0 to 65.0 service: HSDBASE  2933565      0  \n",
       "68399  Rate change from 48.0 to 45.0 service: SP05000  2933566      0  \n",
       "68400                            Abrupt change: 190.0  2933567      0  \n",
       "68401                           Abrupt change: 155.09  2933571      0  \n",
       "68402                           Abrupt change: 177.16  2933572      0  "
      ]
     },
     "execution_count": 10,
     "metadata": {},
     "output_type": "execute_result"
    }
   ],
   "source": [
    "one_acc = events[events.account == '400-30269601']\n",
    "one_acc.head()"
   ]
  },
  {
   "cell_type": "code",
   "execution_count": 15,
   "metadata": {
    "collapsed": false
   },
   "outputs": [
    {
     "data": {
      "text/plain": [
       "order:NP              139\n",
       "order:DW               41\n",
       "order:UP               33\n",
       "order:TC               20\n",
       "order:SR                3\n",
       "Call:Bill Question      2\n",
       "order:IN                1\n",
       "order:DI                1\n",
       "Call:Make Payment       1\n",
       "Name: action, dtype: int64"
      ]
     },
     "execution_count": 15,
     "metadata": {},
     "output_type": "execute_result"
    }
   ],
   "source": [
    "one_acc[one_acc.source == 'user'].action.value_counts()"
   ]
  },
  {
   "cell_type": "code",
   "execution_count": 21,
   "metadata": {
    "collapsed": false
   },
   "outputs": [
    {
     "data": {
      "text/html": [
       "<div>\n",
       "<table border=\"1\" class=\"dataframe\">\n",
       "  <thead>\n",
       "    <tr style=\"text-align: right;\">\n",
       "      <th></th>\n",
       "      <th>site_id</th>\n",
       "      <th>account</th>\n",
       "      <th>action</th>\n",
       "      <th>date</th>\n",
       "      <th>source</th>\n",
       "      <th>details</th>\n",
       "      <th>event</th>\n",
       "      <th>churn</th>\n",
       "    </tr>\n",
       "  </thead>\n",
       "  <tbody>\n",
       "    <tr>\n",
       "      <th>0</th>\n",
       "      <td>150</td>\n",
       "      <td>150-3302</td>\n",
       "      <td>order:UP</td>\n",
       "      <td>2012-03-05</td>\n",
       "      <td>user</td>\n",
       "      <td>Order: UP</td>\n",
       "      <td>2859969</td>\n",
       "      <td>0</td>\n",
       "    </tr>\n",
       "    <tr>\n",
       "      <th>1</th>\n",
       "      <td>150</td>\n",
       "      <td>150-3302</td>\n",
       "      <td>order:DW</td>\n",
       "      <td>2011-07-19</td>\n",
       "      <td>user</td>\n",
       "      <td>Order: DW</td>\n",
       "      <td>2859970</td>\n",
       "      <td>0</td>\n",
       "    </tr>\n",
       "    <tr>\n",
       "      <th>2</th>\n",
       "      <td>150</td>\n",
       "      <td>150-3302</td>\n",
       "      <td>order:IN</td>\n",
       "      <td>2011-05-04</td>\n",
       "      <td>user</td>\n",
       "      <td>Order: IN</td>\n",
       "      <td>2859971</td>\n",
       "      <td>0</td>\n",
       "    </tr>\n",
       "    <tr>\n",
       "      <th>3</th>\n",
       "      <td>150</td>\n",
       "      <td>150-3302</td>\n",
       "      <td>order:NP</td>\n",
       "      <td>2015-07-01</td>\n",
       "      <td>user</td>\n",
       "      <td>Order: NP</td>\n",
       "      <td>2859972</td>\n",
       "      <td>0</td>\n",
       "    </tr>\n",
       "    <tr>\n",
       "      <th>4</th>\n",
       "      <td>150</td>\n",
       "      <td>150-3302</td>\n",
       "      <td>order:UP</td>\n",
       "      <td>2013-08-20</td>\n",
       "      <td>user</td>\n",
       "      <td>Order: UP</td>\n",
       "      <td>2859973</td>\n",
       "      <td>0</td>\n",
       "    </tr>\n",
       "  </tbody>\n",
       "</table>\n",
       "</div>"
      ],
      "text/plain": [
       "  site_id   account    action        date source    details    event  churn\n",
       "0     150  150-3302  order:UP  2012-03-05   user  Order: UP  2859969      0\n",
       "1     150  150-3302  order:DW  2011-07-19   user  Order: DW  2859970      0\n",
       "2     150  150-3302  order:IN  2011-05-04   user  Order: IN  2859971      0\n",
       "3     150  150-3302  order:NP  2015-07-01   user  Order: NP  2859972      0\n",
       "4     150  150-3302  order:UP  2013-08-20   user  Order: UP  2859973      0"
      ]
     },
     "execution_count": 21,
     "metadata": {},
     "output_type": "execute_result"
    }
   ],
   "source": [
    "site_id = events.account.apply(lambda x : str(x).split('-')[0])\n",
    "events.insert(0, 'site_id', site_id)\n",
    "events.head()"
   ]
  },
  {
   "cell_type": "code",
   "execution_count": 22,
   "metadata": {
    "collapsed": false
   },
   "outputs": [
    {
     "data": {
      "text/html": [
       "<div>\n",
       "<table border=\"1\" class=\"dataframe\">\n",
       "  <thead>\n",
       "    <tr style=\"text-align: right;\">\n",
       "      <th></th>\n",
       "      <th>site_id</th>\n",
       "      <th>account</th>\n",
       "      <th>action</th>\n",
       "      <th>date</th>\n",
       "      <th>source</th>\n",
       "      <th>details</th>\n",
       "      <th>event</th>\n",
       "      <th>churn</th>\n",
       "    </tr>\n",
       "  </thead>\n",
       "  <tbody>\n",
       "    <tr>\n",
       "      <th>0</th>\n",
       "      <td>150</td>\n",
       "      <td>3302</td>\n",
       "      <td>order:UP</td>\n",
       "      <td>2012-03-05</td>\n",
       "      <td>user</td>\n",
       "      <td>Order: UP</td>\n",
       "      <td>2859969</td>\n",
       "      <td>0</td>\n",
       "    </tr>\n",
       "    <tr>\n",
       "      <th>1</th>\n",
       "      <td>150</td>\n",
       "      <td>3302</td>\n",
       "      <td>order:DW</td>\n",
       "      <td>2011-07-19</td>\n",
       "      <td>user</td>\n",
       "      <td>Order: DW</td>\n",
       "      <td>2859970</td>\n",
       "      <td>0</td>\n",
       "    </tr>\n",
       "    <tr>\n",
       "      <th>2</th>\n",
       "      <td>150</td>\n",
       "      <td>3302</td>\n",
       "      <td>order:IN</td>\n",
       "      <td>2011-05-04</td>\n",
       "      <td>user</td>\n",
       "      <td>Order: IN</td>\n",
       "      <td>2859971</td>\n",
       "      <td>0</td>\n",
       "    </tr>\n",
       "    <tr>\n",
       "      <th>3</th>\n",
       "      <td>150</td>\n",
       "      <td>3302</td>\n",
       "      <td>order:NP</td>\n",
       "      <td>2015-07-01</td>\n",
       "      <td>user</td>\n",
       "      <td>Order: NP</td>\n",
       "      <td>2859972</td>\n",
       "      <td>0</td>\n",
       "    </tr>\n",
       "    <tr>\n",
       "      <th>4</th>\n",
       "      <td>150</td>\n",
       "      <td>3302</td>\n",
       "      <td>order:UP</td>\n",
       "      <td>2013-08-20</td>\n",
       "      <td>user</td>\n",
       "      <td>Order: UP</td>\n",
       "      <td>2859973</td>\n",
       "      <td>0</td>\n",
       "    </tr>\n",
       "  </tbody>\n",
       "</table>\n",
       "</div>"
      ],
      "text/plain": [
       "  site_id account    action        date source    details    event  churn\n",
       "0     150    3302  order:UP  2012-03-05   user  Order: UP  2859969      0\n",
       "1     150    3302  order:DW  2011-07-19   user  Order: DW  2859970      0\n",
       "2     150    3302  order:IN  2011-05-04   user  Order: IN  2859971      0\n",
       "3     150    3302  order:NP  2015-07-01   user  Order: NP  2859972      0\n",
       "4     150    3302  order:UP  2013-08-20   user  Order: UP  2859973      0"
      ]
     },
     "execution_count": 22,
     "metadata": {},
     "output_type": "execute_result"
    }
   ],
   "source": [
    "events.account = events.account.apply(lambda x: str(x).split('-')[1])\n",
    "events.head()"
   ]
  },
  {
   "cell_type": "code",
   "execution_count": 23,
   "metadata": {
    "collapsed": false
   },
   "outputs": [
    {
     "data": {
      "text/html": [
       "<div>\n",
       "<table border=\"1\" class=\"dataframe\">\n",
       "  <thead>\n",
       "    <tr style=\"text-align: right;\">\n",
       "      <th></th>\n",
       "      <th>site_id</th>\n",
       "      <th>account</th>\n",
       "      <th>action</th>\n",
       "      <th>date</th>\n",
       "      <th>source</th>\n",
       "      <th>churn</th>\n",
       "    </tr>\n",
       "  </thead>\n",
       "  <tbody>\n",
       "    <tr>\n",
       "      <th>0</th>\n",
       "      <td>150</td>\n",
       "      <td>3302</td>\n",
       "      <td>order:UP</td>\n",
       "      <td>2012-03-05</td>\n",
       "      <td>user</td>\n",
       "      <td>0</td>\n",
       "    </tr>\n",
       "    <tr>\n",
       "      <th>1</th>\n",
       "      <td>150</td>\n",
       "      <td>3302</td>\n",
       "      <td>order:DW</td>\n",
       "      <td>2011-07-19</td>\n",
       "      <td>user</td>\n",
       "      <td>0</td>\n",
       "    </tr>\n",
       "    <tr>\n",
       "      <th>2</th>\n",
       "      <td>150</td>\n",
       "      <td>3302</td>\n",
       "      <td>order:IN</td>\n",
       "      <td>2011-05-04</td>\n",
       "      <td>user</td>\n",
       "      <td>0</td>\n",
       "    </tr>\n",
       "    <tr>\n",
       "      <th>3</th>\n",
       "      <td>150</td>\n",
       "      <td>3302</td>\n",
       "      <td>order:NP</td>\n",
       "      <td>2015-07-01</td>\n",
       "      <td>user</td>\n",
       "      <td>0</td>\n",
       "    </tr>\n",
       "    <tr>\n",
       "      <th>4</th>\n",
       "      <td>150</td>\n",
       "      <td>3302</td>\n",
       "      <td>order:UP</td>\n",
       "      <td>2013-08-20</td>\n",
       "      <td>user</td>\n",
       "      <td>0</td>\n",
       "    </tr>\n",
       "  </tbody>\n",
       "</table>\n",
       "</div>"
      ],
      "text/plain": [
       "  site_id account    action        date source  churn\n",
       "0     150    3302  order:UP  2012-03-05   user      0\n",
       "1     150    3302  order:DW  2011-07-19   user      0\n",
       "2     150    3302  order:IN  2011-05-04   user      0\n",
       "3     150    3302  order:NP  2015-07-01   user      0\n",
       "4     150    3302  order:UP  2013-08-20   user      0"
      ]
     },
     "execution_count": 23,
     "metadata": {},
     "output_type": "execute_result"
    }
   ],
   "source": [
    "simpler = events.drop(['details', 'event'], axis=1)\n",
    "simpler.head()"
   ]
  },
  {
   "cell_type": "code",
   "execution_count": 28,
   "metadata": {
    "collapsed": false
   },
   "outputs": [
    {
     "name": "stdout",
     "output_type": "stream",
     "text": [
      "<class 'pandas.core.frame.DataFrame'>\n",
      "Int64Index: 234025 entries, 0 to 501548\n",
      "Data columns (total 6 columns):\n",
      "site_id    234025 non-null object\n",
      "account    234025 non-null object\n",
      "action     234025 non-null object\n",
      "date       234025 non-null object\n",
      "source     234025 non-null object\n",
      "churn      234025 non-null int64\n",
      "dtypes: int64(1), object(5)\n",
      "memory usage: 12.5+ MB\n"
     ]
    }
   ],
   "source": [
    "orders = simpler[simpler.action.apply(lambda x : True if 'order' in str(x) else False)]\n",
    "orders.info()"
   ]
  },
  {
   "cell_type": "code",
   "execution_count": 29,
   "metadata": {
    "collapsed": false
   },
   "outputs": [
    {
     "data": {
      "text/html": [
       "<div>\n",
       "<table border=\"1\" class=\"dataframe\">\n",
       "  <thead>\n",
       "    <tr style=\"text-align: right;\">\n",
       "      <th></th>\n",
       "      <th>site_id</th>\n",
       "      <th>account</th>\n",
       "      <th>action</th>\n",
       "      <th>date</th>\n",
       "      <th>source</th>\n",
       "      <th>churn</th>\n",
       "    </tr>\n",
       "  </thead>\n",
       "  <tbody>\n",
       "    <tr>\n",
       "      <th>0</th>\n",
       "      <td>150</td>\n",
       "      <td>3302</td>\n",
       "      <td>order:UP</td>\n",
       "      <td>2012-03-05</td>\n",
       "      <td>user</td>\n",
       "      <td>0</td>\n",
       "    </tr>\n",
       "    <tr>\n",
       "      <th>1</th>\n",
       "      <td>150</td>\n",
       "      <td>3302</td>\n",
       "      <td>order:DW</td>\n",
       "      <td>2011-07-19</td>\n",
       "      <td>user</td>\n",
       "      <td>0</td>\n",
       "    </tr>\n",
       "    <tr>\n",
       "      <th>2</th>\n",
       "      <td>150</td>\n",
       "      <td>3302</td>\n",
       "      <td>order:IN</td>\n",
       "      <td>2011-05-04</td>\n",
       "      <td>user</td>\n",
       "      <td>0</td>\n",
       "    </tr>\n",
       "    <tr>\n",
       "      <th>3</th>\n",
       "      <td>150</td>\n",
       "      <td>3302</td>\n",
       "      <td>order:NP</td>\n",
       "      <td>2015-07-01</td>\n",
       "      <td>user</td>\n",
       "      <td>0</td>\n",
       "    </tr>\n",
       "    <tr>\n",
       "      <th>4</th>\n",
       "      <td>150</td>\n",
       "      <td>3302</td>\n",
       "      <td>order:UP</td>\n",
       "      <td>2013-08-20</td>\n",
       "      <td>user</td>\n",
       "      <td>0</td>\n",
       "    </tr>\n",
       "  </tbody>\n",
       "</table>\n",
       "</div>"
      ],
      "text/plain": [
       "  site_id account    action        date source  churn\n",
       "0     150    3302  order:UP  2012-03-05   user      0\n",
       "1     150    3302  order:DW  2011-07-19   user      0\n",
       "2     150    3302  order:IN  2011-05-04   user      0\n",
       "3     150    3302  order:NP  2015-07-01   user      0\n",
       "4     150    3302  order:UP  2013-08-20   user      0"
      ]
     },
     "execution_count": 29,
     "metadata": {},
     "output_type": "execute_result"
    }
   ],
   "source": [
    "orders.head()"
   ]
  },
  {
   "cell_type": "code",
   "execution_count": 34,
   "metadata": {
    "collapsed": false
   },
   "outputs": [
    {
     "data": {
      "text/html": [
       "<div>\n",
       "<table border=\"1\" class=\"dataframe\">\n",
       "  <thead>\n",
       "    <tr style=\"text-align: right;\">\n",
       "      <th></th>\n",
       "      <th>site_id</th>\n",
       "      <th>account</th>\n",
       "      <th>order_action</th>\n",
       "      <th>date</th>\n",
       "      <th>source</th>\n",
       "      <th>churn</th>\n",
       "    </tr>\n",
       "  </thead>\n",
       "  <tbody>\n",
       "    <tr>\n",
       "      <th>0</th>\n",
       "      <td>150</td>\n",
       "      <td>3302</td>\n",
       "      <td>order:UP</td>\n",
       "      <td>2012-03-05</td>\n",
       "      <td>user</td>\n",
       "      <td>0</td>\n",
       "    </tr>\n",
       "    <tr>\n",
       "      <th>1</th>\n",
       "      <td>150</td>\n",
       "      <td>3302</td>\n",
       "      <td>order:DW</td>\n",
       "      <td>2011-07-19</td>\n",
       "      <td>user</td>\n",
       "      <td>0</td>\n",
       "    </tr>\n",
       "    <tr>\n",
       "      <th>2</th>\n",
       "      <td>150</td>\n",
       "      <td>3302</td>\n",
       "      <td>order:IN</td>\n",
       "      <td>2011-05-04</td>\n",
       "      <td>user</td>\n",
       "      <td>0</td>\n",
       "    </tr>\n",
       "    <tr>\n",
       "      <th>3</th>\n",
       "      <td>150</td>\n",
       "      <td>3302</td>\n",
       "      <td>order:NP</td>\n",
       "      <td>2015-07-01</td>\n",
       "      <td>user</td>\n",
       "      <td>0</td>\n",
       "    </tr>\n",
       "    <tr>\n",
       "      <th>4</th>\n",
       "      <td>150</td>\n",
       "      <td>3302</td>\n",
       "      <td>order:UP</td>\n",
       "      <td>2013-08-20</td>\n",
       "      <td>user</td>\n",
       "      <td>0</td>\n",
       "    </tr>\n",
       "  </tbody>\n",
       "</table>\n",
       "</div>"
      ],
      "text/plain": [
       "  site_id account order_action        date source  churn\n",
       "0     150    3302     order:UP  2012-03-05   user      0\n",
       "1     150    3302     order:DW  2011-07-19   user      0\n",
       "2     150    3302     order:IN  2011-05-04   user      0\n",
       "3     150    3302     order:NP  2015-07-01   user      0\n",
       "4     150    3302     order:UP  2013-08-20   user      0"
      ]
     },
     "execution_count": 34,
     "metadata": {},
     "output_type": "execute_result"
    }
   ],
   "source": [
    "orders.columns = ['site_id', 'account', 'order_action', 'date', 'source', 'churn']\n",
    "orders.head()"
   ]
  },
  {
   "cell_type": "code",
   "execution_count": 35,
   "metadata": {
    "collapsed": false
   },
   "outputs": [
    {
     "data": {
      "text/html": [
       "<div>\n",
       "<table border=\"1\" class=\"dataframe\">\n",
       "  <thead>\n",
       "    <tr style=\"text-align: right;\">\n",
       "      <th></th>\n",
       "      <th>site_id</th>\n",
       "      <th>account</th>\n",
       "      <th>order_action</th>\n",
       "      <th>date</th>\n",
       "      <th>source</th>\n",
       "      <th>churn</th>\n",
       "    </tr>\n",
       "  </thead>\n",
       "  <tbody>\n",
       "    <tr>\n",
       "      <th>0</th>\n",
       "      <td>150</td>\n",
       "      <td>3302</td>\n",
       "      <td>UP</td>\n",
       "      <td>2012-03-05</td>\n",
       "      <td>user</td>\n",
       "      <td>0</td>\n",
       "    </tr>\n",
       "    <tr>\n",
       "      <th>1</th>\n",
       "      <td>150</td>\n",
       "      <td>3302</td>\n",
       "      <td>DW</td>\n",
       "      <td>2011-07-19</td>\n",
       "      <td>user</td>\n",
       "      <td>0</td>\n",
       "    </tr>\n",
       "    <tr>\n",
       "      <th>2</th>\n",
       "      <td>150</td>\n",
       "      <td>3302</td>\n",
       "      <td>IN</td>\n",
       "      <td>2011-05-04</td>\n",
       "      <td>user</td>\n",
       "      <td>0</td>\n",
       "    </tr>\n",
       "    <tr>\n",
       "      <th>3</th>\n",
       "      <td>150</td>\n",
       "      <td>3302</td>\n",
       "      <td>NP</td>\n",
       "      <td>2015-07-01</td>\n",
       "      <td>user</td>\n",
       "      <td>0</td>\n",
       "    </tr>\n",
       "    <tr>\n",
       "      <th>4</th>\n",
       "      <td>150</td>\n",
       "      <td>3302</td>\n",
       "      <td>UP</td>\n",
       "      <td>2013-08-20</td>\n",
       "      <td>user</td>\n",
       "      <td>0</td>\n",
       "    </tr>\n",
       "  </tbody>\n",
       "</table>\n",
       "</div>"
      ],
      "text/plain": [
       "  site_id account order_action        date source  churn\n",
       "0     150    3302           UP  2012-03-05   user      0\n",
       "1     150    3302           DW  2011-07-19   user      0\n",
       "2     150    3302           IN  2011-05-04   user      0\n",
       "3     150    3302           NP  2015-07-01   user      0\n",
       "4     150    3302           UP  2013-08-20   user      0"
      ]
     },
     "execution_count": 35,
     "metadata": {},
     "output_type": "execute_result"
    }
   ],
   "source": [
    "orders.order_action = orders.order_action.apply(lambda x : str(x).split(':')[1])\n",
    "orders.head()"
   ]
  },
  {
   "cell_type": "code",
   "execution_count": 37,
   "metadata": {
    "collapsed": false
   },
   "outputs": [],
   "source": [
    "orders.to_csv(\"orders.csv\")"
   ]
  },
  {
   "cell_type": "code",
   "execution_count": 48,
   "metadata": {
    "collapsed": false
   },
   "outputs": [
    {
     "data": {
      "text/html": [
       "<div>\n",
       "<table border=\"1\" class=\"dataframe\">\n",
       "  <thead>\n",
       "    <tr style=\"text-align: right;\">\n",
       "      <th></th>\n",
       "      <th>site_id</th>\n",
       "      <th>account</th>\n",
       "      <th>action</th>\n",
       "      <th>date</th>\n",
       "      <th>source</th>\n",
       "      <th>details</th>\n",
       "      <th>churn</th>\n",
       "    </tr>\n",
       "  </thead>\n",
       "  <tbody>\n",
       "    <tr>\n",
       "      <th>21</th>\n",
       "      <td>106</td>\n",
       "      <td>22403</td>\n",
       "      <td>starts</td>\n",
       "      <td>2015-01-13</td>\n",
       "      <td>system</td>\n",
       "      <td>Promo: HSDBASE ZRINT2P14</td>\n",
       "      <td>0</td>\n",
       "    </tr>\n",
       "    <tr>\n",
       "      <th>22</th>\n",
       "      <td>106</td>\n",
       "      <td>22403</td>\n",
       "      <td>ends</td>\n",
       "      <td>2039-12-31</td>\n",
       "      <td>system</td>\n",
       "      <td>Promo: HSDBASE ZRINT2P14</td>\n",
       "      <td>0</td>\n",
       "    </tr>\n",
       "    <tr>\n",
       "      <th>23</th>\n",
       "      <td>106</td>\n",
       "      <td>22403</td>\n",
       "      <td>starts</td>\n",
       "      <td>2015-01-13</td>\n",
       "      <td>system</td>\n",
       "      <td>Promo: SP05000 ZRINT2P14</td>\n",
       "      <td>0</td>\n",
       "    </tr>\n",
       "    <tr>\n",
       "      <th>24</th>\n",
       "      <td>106</td>\n",
       "      <td>22403</td>\n",
       "      <td>ends</td>\n",
       "      <td>2039-12-31</td>\n",
       "      <td>system</td>\n",
       "      <td>Promo: SP05000 ZRINT2P14</td>\n",
       "      <td>0</td>\n",
       "    </tr>\n",
       "    <tr>\n",
       "      <th>25</th>\n",
       "      <td>106</td>\n",
       "      <td>22403</td>\n",
       "      <td>starts</td>\n",
       "      <td>2015-01-13</td>\n",
       "      <td>system</td>\n",
       "      <td>Promo: 30480 ZRINT2P14</td>\n",
       "      <td>0</td>\n",
       "    </tr>\n",
       "  </tbody>\n",
       "</table>\n",
       "</div>"
      ],
      "text/plain": [
       "   site_id account  action        date  source                   details  \\\n",
       "21     106   22403  starts  2015-01-13  system  Promo: HSDBASE ZRINT2P14   \n",
       "22     106   22403    ends  2039-12-31  system  Promo: HSDBASE ZRINT2P14   \n",
       "23     106   22403  starts  2015-01-13  system  Promo: SP05000 ZRINT2P14   \n",
       "24     106   22403    ends  2039-12-31  system  Promo: SP05000 ZRINT2P14   \n",
       "25     106   22403  starts  2015-01-13  system    Promo: 30480 ZRINT2P14   \n",
       "\n",
       "    churn  \n",
       "21      0  \n",
       "22      0  \n",
       "23      0  \n",
       "24      0  \n",
       "25      0  "
      ]
     },
     "execution_count": 48,
     "metadata": {},
     "output_type": "execute_result"
    }
   ],
   "source": [
    "promos = events[events.action.apply(lambda x : True if 'promo' in str(x) else False)]\n",
    "promos = promos.drop('event', axis=1)\n",
    "promos.action = promos.action.apply(lambda x : str(x).split('_')[1])\n",
    "promos.head()"
   ]
  },
  {
   "cell_type": "code",
   "execution_count": 49,
   "metadata": {
    "collapsed": false
   },
   "outputs": [
    {
     "data": {
      "text/html": [
       "<div>\n",
       "<table border=\"1\" class=\"dataframe\">\n",
       "  <thead>\n",
       "    <tr style=\"text-align: right;\">\n",
       "      <th></th>\n",
       "      <th>site_id</th>\n",
       "      <th>account</th>\n",
       "      <th>promo</th>\n",
       "      <th>action</th>\n",
       "      <th>date</th>\n",
       "      <th>start_date</th>\n",
       "      <th>source</th>\n",
       "      <th>end_date</th>\n",
       "      <th>details</th>\n",
       "      <th>churn</th>\n",
       "    </tr>\n",
       "  </thead>\n",
       "  <tbody>\n",
       "    <tr>\n",
       "      <th>21</th>\n",
       "      <td>106</td>\n",
       "      <td>22403</td>\n",
       "      <td>HSDBASE ZRINT2P14</td>\n",
       "      <td>starts</td>\n",
       "      <td>2015-01-13</td>\n",
       "      <td>2015-01-13</td>\n",
       "      <td>system</td>\n",
       "      <td>NaN</td>\n",
       "      <td>Promo: HSDBASE ZRINT2P14</td>\n",
       "      <td>0</td>\n",
       "    </tr>\n",
       "    <tr>\n",
       "      <th>22</th>\n",
       "      <td>106</td>\n",
       "      <td>22403</td>\n",
       "      <td>HSDBASE ZRINT2P14</td>\n",
       "      <td>ends</td>\n",
       "      <td>2039-12-31</td>\n",
       "      <td>NaN</td>\n",
       "      <td>system</td>\n",
       "      <td>2039-12-31</td>\n",
       "      <td>Promo: HSDBASE ZRINT2P14</td>\n",
       "      <td>0</td>\n",
       "    </tr>\n",
       "    <tr>\n",
       "      <th>23</th>\n",
       "      <td>106</td>\n",
       "      <td>22403</td>\n",
       "      <td>SP05000 ZRINT2P14</td>\n",
       "      <td>starts</td>\n",
       "      <td>2015-01-13</td>\n",
       "      <td>2015-01-13</td>\n",
       "      <td>system</td>\n",
       "      <td>NaN</td>\n",
       "      <td>Promo: SP05000 ZRINT2P14</td>\n",
       "      <td>0</td>\n",
       "    </tr>\n",
       "    <tr>\n",
       "      <th>24</th>\n",
       "      <td>106</td>\n",
       "      <td>22403</td>\n",
       "      <td>SP05000 ZRINT2P14</td>\n",
       "      <td>ends</td>\n",
       "      <td>2039-12-31</td>\n",
       "      <td>NaN</td>\n",
       "      <td>system</td>\n",
       "      <td>2039-12-31</td>\n",
       "      <td>Promo: SP05000 ZRINT2P14</td>\n",
       "      <td>0</td>\n",
       "    </tr>\n",
       "    <tr>\n",
       "      <th>25</th>\n",
       "      <td>106</td>\n",
       "      <td>22403</td>\n",
       "      <td>30480 ZRINT2P14</td>\n",
       "      <td>starts</td>\n",
       "      <td>2015-01-13</td>\n",
       "      <td>2015-01-13</td>\n",
       "      <td>system</td>\n",
       "      <td>NaN</td>\n",
       "      <td>Promo: 30480 ZRINT2P14</td>\n",
       "      <td>0</td>\n",
       "    </tr>\n",
       "  </tbody>\n",
       "</table>\n",
       "</div>"
      ],
      "text/plain": [
       "   site_id account              promo  action        date  start_date  source  \\\n",
       "21     106   22403  HSDBASE ZRINT2P14  starts  2015-01-13  2015-01-13  system   \n",
       "22     106   22403  HSDBASE ZRINT2P14    ends  2039-12-31         NaN  system   \n",
       "23     106   22403  SP05000 ZRINT2P14  starts  2015-01-13  2015-01-13  system   \n",
       "24     106   22403  SP05000 ZRINT2P14    ends  2039-12-31         NaN  system   \n",
       "25     106   22403    30480 ZRINT2P14  starts  2015-01-13  2015-01-13  system   \n",
       "\n",
       "      end_date                   details  churn  \n",
       "21         NaN  Promo: HSDBASE ZRINT2P14      0  \n",
       "22  2039-12-31  Promo: HSDBASE ZRINT2P14      0  \n",
       "23         NaN  Promo: SP05000 ZRINT2P14      0  \n",
       "24  2039-12-31  Promo: SP05000 ZRINT2P14      0  \n",
       "25         NaN    Promo: 30480 ZRINT2P14      0  "
      ]
     },
     "execution_count": 49,
     "metadata": {},
     "output_type": "execute_result"
    }
   ],
   "source": [
    "start_date = promos[promos.action == 'starts'].date\n",
    "end_date = promos[promos.action == 'ends'].date\n",
    "promo = promos.details.apply(lambda x : str(x).split(':')[1].strip())\n",
    "promos.insert(2, 'promo', promo)\n",
    "promos.insert(5, 'start_date', start_date)\n",
    "promos.insert(7, 'end_date', end_date)\n",
    "promos.head()"
   ]
  },
  {
   "cell_type": "code",
   "execution_count": 50,
   "metadata": {
    "collapsed": false
   },
   "outputs": [
    {
     "data": {
      "text/html": [
       "<div>\n",
       "<table border=\"1\" class=\"dataframe\">\n",
       "  <thead>\n",
       "    <tr style=\"text-align: right;\">\n",
       "      <th></th>\n",
       "      <th>site_id</th>\n",
       "      <th>account</th>\n",
       "      <th>promo</th>\n",
       "      <th>action</th>\n",
       "      <th>date</th>\n",
       "      <th>start_date</th>\n",
       "      <th>source</th>\n",
       "      <th>end_date</th>\n",
       "      <th>details</th>\n",
       "      <th>churn</th>\n",
       "    </tr>\n",
       "  </thead>\n",
       "  <tbody>\n",
       "    <tr>\n",
       "      <th>21</th>\n",
       "      <td>106</td>\n",
       "      <td>22403</td>\n",
       "      <td>HSDBASE ZRINT2P14</td>\n",
       "      <td>starts</td>\n",
       "      <td>2015-01-13</td>\n",
       "      <td>2015-01-13</td>\n",
       "      <td>system</td>\n",
       "      <td>2039-12-31</td>\n",
       "      <td>Promo: HSDBASE ZRINT2P14</td>\n",
       "      <td>0</td>\n",
       "    </tr>\n",
       "    <tr>\n",
       "      <th>22</th>\n",
       "      <td>106</td>\n",
       "      <td>22403</td>\n",
       "      <td>HSDBASE ZRINT2P14</td>\n",
       "      <td>ends</td>\n",
       "      <td>2039-12-31</td>\n",
       "      <td>NaN</td>\n",
       "      <td>system</td>\n",
       "      <td>2039-12-31</td>\n",
       "      <td>Promo: HSDBASE ZRINT2P14</td>\n",
       "      <td>0</td>\n",
       "    </tr>\n",
       "    <tr>\n",
       "      <th>23</th>\n",
       "      <td>106</td>\n",
       "      <td>22403</td>\n",
       "      <td>SP05000 ZRINT2P14</td>\n",
       "      <td>starts</td>\n",
       "      <td>2015-01-13</td>\n",
       "      <td>2015-01-13</td>\n",
       "      <td>system</td>\n",
       "      <td>2039-12-31</td>\n",
       "      <td>Promo: SP05000 ZRINT2P14</td>\n",
       "      <td>0</td>\n",
       "    </tr>\n",
       "    <tr>\n",
       "      <th>24</th>\n",
       "      <td>106</td>\n",
       "      <td>22403</td>\n",
       "      <td>SP05000 ZRINT2P14</td>\n",
       "      <td>ends</td>\n",
       "      <td>2039-12-31</td>\n",
       "      <td>NaN</td>\n",
       "      <td>system</td>\n",
       "      <td>2039-12-31</td>\n",
       "      <td>Promo: SP05000 ZRINT2P14</td>\n",
       "      <td>0</td>\n",
       "    </tr>\n",
       "    <tr>\n",
       "      <th>25</th>\n",
       "      <td>106</td>\n",
       "      <td>22403</td>\n",
       "      <td>30480 ZRINT2P14</td>\n",
       "      <td>starts</td>\n",
       "      <td>2015-01-13</td>\n",
       "      <td>2015-01-13</td>\n",
       "      <td>system</td>\n",
       "      <td>2039-12-31</td>\n",
       "      <td>Promo: 30480 ZRINT2P14</td>\n",
       "      <td>0</td>\n",
       "    </tr>\n",
       "  </tbody>\n",
       "</table>\n",
       "</div>"
      ],
      "text/plain": [
       "   site_id account              promo  action        date  start_date  source  \\\n",
       "21     106   22403  HSDBASE ZRINT2P14  starts  2015-01-13  2015-01-13  system   \n",
       "22     106   22403  HSDBASE ZRINT2P14    ends  2039-12-31         NaN  system   \n",
       "23     106   22403  SP05000 ZRINT2P14  starts  2015-01-13  2015-01-13  system   \n",
       "24     106   22403  SP05000 ZRINT2P14    ends  2039-12-31         NaN  system   \n",
       "25     106   22403    30480 ZRINT2P14  starts  2015-01-13  2015-01-13  system   \n",
       "\n",
       "      end_date                   details  churn  \n",
       "21  2039-12-31  Promo: HSDBASE ZRINT2P14      0  \n",
       "22  2039-12-31  Promo: HSDBASE ZRINT2P14      0  \n",
       "23  2039-12-31  Promo: SP05000 ZRINT2P14      0  \n",
       "24  2039-12-31  Promo: SP05000 ZRINT2P14      0  \n",
       "25  2039-12-31    Promo: 30480 ZRINT2P14      0  "
      ]
     },
     "execution_count": 50,
     "metadata": {},
     "output_type": "execute_result"
    }
   ],
   "source": [
    "promos.end_date.fillna(method='backfill', inplace=True)\n",
    "promos.head()"
   ]
  },
  {
   "cell_type": "code",
   "execution_count": 52,
   "metadata": {
    "collapsed": false
   },
   "outputs": [
    {
     "data": {
      "text/html": [
       "<div>\n",
       "<table border=\"1\" class=\"dataframe\">\n",
       "  <thead>\n",
       "    <tr style=\"text-align: right;\">\n",
       "      <th></th>\n",
       "      <th>site_id</th>\n",
       "      <th>account</th>\n",
       "      <th>promo</th>\n",
       "      <th>action</th>\n",
       "      <th>date</th>\n",
       "      <th>start_date</th>\n",
       "      <th>source</th>\n",
       "      <th>end_date</th>\n",
       "      <th>details</th>\n",
       "      <th>churn</th>\n",
       "    </tr>\n",
       "  </thead>\n",
       "  <tbody>\n",
       "    <tr>\n",
       "      <th>21</th>\n",
       "      <td>106</td>\n",
       "      <td>22403</td>\n",
       "      <td>HSDBASE ZRINT2P14</td>\n",
       "      <td>starts</td>\n",
       "      <td>2015-01-13</td>\n",
       "      <td>2015-01-13</td>\n",
       "      <td>system</td>\n",
       "      <td>2039-12-31</td>\n",
       "      <td>Promo: HSDBASE ZRINT2P14</td>\n",
       "      <td>0</td>\n",
       "    </tr>\n",
       "    <tr>\n",
       "      <th>23</th>\n",
       "      <td>106</td>\n",
       "      <td>22403</td>\n",
       "      <td>SP05000 ZRINT2P14</td>\n",
       "      <td>starts</td>\n",
       "      <td>2015-01-13</td>\n",
       "      <td>2015-01-13</td>\n",
       "      <td>system</td>\n",
       "      <td>2039-12-31</td>\n",
       "      <td>Promo: SP05000 ZRINT2P14</td>\n",
       "      <td>0</td>\n",
       "    </tr>\n",
       "    <tr>\n",
       "      <th>25</th>\n",
       "      <td>106</td>\n",
       "      <td>22403</td>\n",
       "      <td>30480 ZRINT2P14</td>\n",
       "      <td>starts</td>\n",
       "      <td>2015-01-13</td>\n",
       "      <td>2015-01-13</td>\n",
       "      <td>system</td>\n",
       "      <td>2039-12-31</td>\n",
       "      <td>Promo: 30480 ZRINT2P14</td>\n",
       "      <td>0</td>\n",
       "    </tr>\n",
       "    <tr>\n",
       "      <th>27</th>\n",
       "      <td>106</td>\n",
       "      <td>22403</td>\n",
       "      <td>6686 TIVO13</td>\n",
       "      <td>starts</td>\n",
       "      <td>2013-04-05</td>\n",
       "      <td>2013-04-05</td>\n",
       "      <td>system</td>\n",
       "      <td>2039-12-31</td>\n",
       "      <td>Promo: 6686 TIVO13</td>\n",
       "      <td>0</td>\n",
       "    </tr>\n",
       "    <tr>\n",
       "      <th>29</th>\n",
       "      <td>106</td>\n",
       "      <td>22403</td>\n",
       "      <td>325 VID3P13</td>\n",
       "      <td>starts</td>\n",
       "      <td>2013-04-05</td>\n",
       "      <td>2013-04-05</td>\n",
       "      <td>system</td>\n",
       "      <td>2039-12-31</td>\n",
       "      <td>Promo: 325 VID3P13</td>\n",
       "      <td>0</td>\n",
       "    </tr>\n",
       "  </tbody>\n",
       "</table>\n",
       "</div>"
      ],
      "text/plain": [
       "   site_id account              promo  action        date  start_date  source  \\\n",
       "21     106   22403  HSDBASE ZRINT2P14  starts  2015-01-13  2015-01-13  system   \n",
       "23     106   22403  SP05000 ZRINT2P14  starts  2015-01-13  2015-01-13  system   \n",
       "25     106   22403    30480 ZRINT2P14  starts  2015-01-13  2015-01-13  system   \n",
       "27     106   22403        6686 TIVO13  starts  2013-04-05  2013-04-05  system   \n",
       "29     106   22403        325 VID3P13  starts  2013-04-05  2013-04-05  system   \n",
       "\n",
       "      end_date                   details  churn  \n",
       "21  2039-12-31  Promo: HSDBASE ZRINT2P14      0  \n",
       "23  2039-12-31  Promo: SP05000 ZRINT2P14      0  \n",
       "25  2039-12-31    Promo: 30480 ZRINT2P14      0  \n",
       "27  2039-12-31        Promo: 6686 TIVO13      0  \n",
       "29  2039-12-31        Promo: 325 VID3P13      0  "
      ]
     },
     "execution_count": 52,
     "metadata": {},
     "output_type": "execute_result"
    }
   ],
   "source": [
    "promos.dropna(inplace=True)\n",
    "promos.head()"
   ]
  },
  {
   "cell_type": "code",
   "execution_count": 54,
   "metadata": {
    "collapsed": false
   },
   "outputs": [
    {
     "name": "stdout",
     "output_type": "stream",
     "text": [
      "<class 'pandas.core.frame.DataFrame'>\n",
      "Int64Index: 90305 entries, 21 to 501538\n",
      "Data columns (total 8 columns):\n",
      "site_id       90305 non-null object\n",
      "account       90305 non-null object\n",
      "promo         90305 non-null object\n",
      "date          90305 non-null object\n",
      "start_date    90305 non-null object\n",
      "source        90305 non-null object\n",
      "end_date      90305 non-null object\n",
      "churn         90305 non-null int64\n",
      "dtypes: int64(1), object(7)\n",
      "memory usage: 6.2+ MB\n"
     ]
    }
   ],
   "source": [
    "promos.drop(['action', 'details'], axis=1, inplace=True)\n",
    "promos.info()"
   ]
  },
  {
   "cell_type": "code",
   "execution_count": 55,
   "metadata": {
    "collapsed": false
   },
   "outputs": [
    {
     "data": {
      "text/html": [
       "<div>\n",
       "<table border=\"1\" class=\"dataframe\">\n",
       "  <thead>\n",
       "    <tr style=\"text-align: right;\">\n",
       "      <th></th>\n",
       "      <th>site_id</th>\n",
       "      <th>account</th>\n",
       "      <th>promo</th>\n",
       "      <th>start_date</th>\n",
       "      <th>source</th>\n",
       "      <th>end_date</th>\n",
       "      <th>churn</th>\n",
       "    </tr>\n",
       "  </thead>\n",
       "  <tbody>\n",
       "    <tr>\n",
       "      <th>21</th>\n",
       "      <td>106</td>\n",
       "      <td>22403</td>\n",
       "      <td>HSDBASE ZRINT2P14</td>\n",
       "      <td>2015-01-13</td>\n",
       "      <td>system</td>\n",
       "      <td>2039-12-31</td>\n",
       "      <td>0</td>\n",
       "    </tr>\n",
       "    <tr>\n",
       "      <th>23</th>\n",
       "      <td>106</td>\n",
       "      <td>22403</td>\n",
       "      <td>SP05000 ZRINT2P14</td>\n",
       "      <td>2015-01-13</td>\n",
       "      <td>system</td>\n",
       "      <td>2039-12-31</td>\n",
       "      <td>0</td>\n",
       "    </tr>\n",
       "    <tr>\n",
       "      <th>25</th>\n",
       "      <td>106</td>\n",
       "      <td>22403</td>\n",
       "      <td>30480 ZRINT2P14</td>\n",
       "      <td>2015-01-13</td>\n",
       "      <td>system</td>\n",
       "      <td>2039-12-31</td>\n",
       "      <td>0</td>\n",
       "    </tr>\n",
       "    <tr>\n",
       "      <th>27</th>\n",
       "      <td>106</td>\n",
       "      <td>22403</td>\n",
       "      <td>6686 TIVO13</td>\n",
       "      <td>2013-04-05</td>\n",
       "      <td>system</td>\n",
       "      <td>2039-12-31</td>\n",
       "      <td>0</td>\n",
       "    </tr>\n",
       "    <tr>\n",
       "      <th>29</th>\n",
       "      <td>106</td>\n",
       "      <td>22403</td>\n",
       "      <td>325 VID3P13</td>\n",
       "      <td>2013-04-05</td>\n",
       "      <td>system</td>\n",
       "      <td>2039-12-31</td>\n",
       "      <td>0</td>\n",
       "    </tr>\n",
       "  </tbody>\n",
       "</table>\n",
       "</div>"
      ],
      "text/plain": [
       "   site_id account              promo  start_date  source    end_date  churn\n",
       "21     106   22403  HSDBASE ZRINT2P14  2015-01-13  system  2039-12-31      0\n",
       "23     106   22403  SP05000 ZRINT2P14  2015-01-13  system  2039-12-31      0\n",
       "25     106   22403    30480 ZRINT2P14  2015-01-13  system  2039-12-31      0\n",
       "27     106   22403        6686 TIVO13  2013-04-05  system  2039-12-31      0\n",
       "29     106   22403        325 VID3P13  2013-04-05  system  2039-12-31      0"
      ]
     },
     "execution_count": 55,
     "metadata": {},
     "output_type": "execute_result"
    }
   ],
   "source": [
    "promos.drop('date', axis=1, inplace=True)\n",
    "promos.head()"
   ]
  },
  {
   "cell_type": "code",
   "execution_count": 56,
   "metadata": {
    "collapsed": false
   },
   "outputs": [
    {
     "data": {
      "text/html": [
       "<div>\n",
       "<table border=\"1\" class=\"dataframe\">\n",
       "  <thead>\n",
       "    <tr style=\"text-align: right;\">\n",
       "      <th></th>\n",
       "      <th>site_id</th>\n",
       "      <th>account_id</th>\n",
       "      <th>promo</th>\n",
       "      <th>start_date</th>\n",
       "      <th>end_date</th>\n",
       "      <th>source</th>\n",
       "      <th>churn</th>\n",
       "    </tr>\n",
       "  </thead>\n",
       "  <tbody>\n",
       "    <tr>\n",
       "      <th>21</th>\n",
       "      <td>106</td>\n",
       "      <td>22403</td>\n",
       "      <td>HSDBASE ZRINT2P14</td>\n",
       "      <td>2015-01-13</td>\n",
       "      <td>2039-12-31</td>\n",
       "      <td>system</td>\n",
       "      <td>0</td>\n",
       "    </tr>\n",
       "    <tr>\n",
       "      <th>23</th>\n",
       "      <td>106</td>\n",
       "      <td>22403</td>\n",
       "      <td>SP05000 ZRINT2P14</td>\n",
       "      <td>2015-01-13</td>\n",
       "      <td>2039-12-31</td>\n",
       "      <td>system</td>\n",
       "      <td>0</td>\n",
       "    </tr>\n",
       "    <tr>\n",
       "      <th>25</th>\n",
       "      <td>106</td>\n",
       "      <td>22403</td>\n",
       "      <td>30480 ZRINT2P14</td>\n",
       "      <td>2015-01-13</td>\n",
       "      <td>2039-12-31</td>\n",
       "      <td>system</td>\n",
       "      <td>0</td>\n",
       "    </tr>\n",
       "    <tr>\n",
       "      <th>27</th>\n",
       "      <td>106</td>\n",
       "      <td>22403</td>\n",
       "      <td>6686 TIVO13</td>\n",
       "      <td>2013-04-05</td>\n",
       "      <td>2039-12-31</td>\n",
       "      <td>system</td>\n",
       "      <td>0</td>\n",
       "    </tr>\n",
       "    <tr>\n",
       "      <th>29</th>\n",
       "      <td>106</td>\n",
       "      <td>22403</td>\n",
       "      <td>325 VID3P13</td>\n",
       "      <td>2013-04-05</td>\n",
       "      <td>2039-12-31</td>\n",
       "      <td>system</td>\n",
       "      <td>0</td>\n",
       "    </tr>\n",
       "  </tbody>\n",
       "</table>\n",
       "</div>"
      ],
      "text/plain": [
       "   site_id account_id              promo  start_date    end_date  source  \\\n",
       "21     106      22403  HSDBASE ZRINT2P14  2015-01-13  2039-12-31  system   \n",
       "23     106      22403  SP05000 ZRINT2P14  2015-01-13  2039-12-31  system   \n",
       "25     106      22403    30480 ZRINT2P14  2015-01-13  2039-12-31  system   \n",
       "27     106      22403        6686 TIVO13  2013-04-05  2039-12-31  system   \n",
       "29     106      22403        325 VID3P13  2013-04-05  2039-12-31  system   \n",
       "\n",
       "    churn  \n",
       "21      0  \n",
       "23      0  \n",
       "25      0  \n",
       "27      0  \n",
       "29      0  "
      ]
     },
     "execution_count": 56,
     "metadata": {},
     "output_type": "execute_result"
    }
   ],
   "source": [
    "promos.insert(4, 'end_dat', promos.end_date)\n",
    "promos.drop('end_date', axis=1, inplace=True)\n",
    "promos.columns = ['site_id', 'account_id', 'promo', 'start_date', 'end_date', 'source', 'churn']\n",
    "promos.head()"
   ]
  },
  {
   "cell_type": "code",
   "execution_count": 57,
   "metadata": {
    "collapsed": true
   },
   "outputs": [],
   "source": [
    "promos.to_csv(\"promos.csv\")"
   ]
  },
  {
   "cell_type": "code",
   "execution_count": 58,
   "metadata": {
    "collapsed": false
   },
   "outputs": [
    {
     "data": {
      "text/html": [
       "<div>\n",
       "<table border=\"1\" class=\"dataframe\">\n",
       "  <thead>\n",
       "    <tr style=\"text-align: right;\">\n",
       "      <th></th>\n",
       "      <th>site_id</th>\n",
       "      <th>account</th>\n",
       "      <th>action</th>\n",
       "      <th>date</th>\n",
       "      <th>source</th>\n",
       "      <th>churn</th>\n",
       "    </tr>\n",
       "  </thead>\n",
       "  <tbody>\n",
       "    <tr>\n",
       "      <th>7</th>\n",
       "      <td>150</td>\n",
       "      <td>3302</td>\n",
       "      <td>Balance Question</td>\n",
       "      <td>2015-09-21</td>\n",
       "      <td>user</td>\n",
       "      <td>0</td>\n",
       "    </tr>\n",
       "    <tr>\n",
       "      <th>66</th>\n",
       "      <td>106</td>\n",
       "      <td>22403</td>\n",
       "      <td>TV Channel Problem/Tiling</td>\n",
       "      <td>2015-02-14</td>\n",
       "      <td>user</td>\n",
       "      <td>0</td>\n",
       "    </tr>\n",
       "    <tr>\n",
       "      <th>88</th>\n",
       "      <td>106</td>\n",
       "      <td>32501</td>\n",
       "      <td>Where is Tech</td>\n",
       "      <td>2015-02-13</td>\n",
       "      <td>user</td>\n",
       "      <td>0</td>\n",
       "    </tr>\n",
       "    <tr>\n",
       "      <th>115</th>\n",
       "      <td>106</td>\n",
       "      <td>76201</td>\n",
       "      <td>Make Payment</td>\n",
       "      <td>2015-06-01</td>\n",
       "      <td>user</td>\n",
       "      <td>0</td>\n",
       "    </tr>\n",
       "    <tr>\n",
       "      <th>116</th>\n",
       "      <td>106</td>\n",
       "      <td>76201</td>\n",
       "      <td>Fix Outside Wires</td>\n",
       "      <td>2015-07-15</td>\n",
       "      <td>user</td>\n",
       "      <td>0</td>\n",
       "    </tr>\n",
       "  </tbody>\n",
       "</table>\n",
       "</div>"
      ],
      "text/plain": [
       "    site_id account                     action        date source  churn\n",
       "7       150    3302           Balance Question  2015-09-21   user      0\n",
       "66      106   22403  TV Channel Problem/Tiling  2015-02-14   user      0\n",
       "88      106   32501              Where is Tech  2015-02-13   user      0\n",
       "115     106   76201               Make Payment  2015-06-01   user      0\n",
       "116     106   76201          Fix Outside Wires  2015-07-15   user      0"
      ]
     },
     "execution_count": 58,
     "metadata": {},
     "output_type": "execute_result"
    }
   ],
   "source": [
    "calls = simpler[simpler.action.apply(lambda x : True if 'Call' in str(x) else False)]\n",
    "calls.action = calls.action.apply(lambda x: str(x).split(':')[1].strip())\n",
    "calls.head()"
   ]
  },
  {
   "cell_type": "code",
   "execution_count": 59,
   "metadata": {
    "collapsed": false
   },
   "outputs": [
    {
     "name": "stdout",
     "output_type": "stream",
     "text": [
      "<class 'pandas.core.frame.DataFrame'>\n",
      "Int64Index: 26979 entries, 7 to 501549\n",
      "Data columns (total 6 columns):\n",
      "site_id       26979 non-null object\n",
      "account_id    26979 non-null object\n",
      "call          26979 non-null object\n",
      "date          26979 non-null object\n",
      "source        26979 non-null object\n",
      "churn         26979 non-null int64\n",
      "dtypes: int64(1), object(5)\n",
      "memory usage: 1.4+ MB\n"
     ]
    }
   ],
   "source": [
    "calls.columns = ['site_id', 'account_id', 'call', 'date', 'source', 'churn']\n",
    "calls.info()"
   ]
  },
  {
   "cell_type": "code",
   "execution_count": 60,
   "metadata": {
    "collapsed": true
   },
   "outputs": [],
   "source": [
    "calls.to_csv(\"calls.csv\")"
   ]
  },
  {
   "cell_type": "code",
   "execution_count": 61,
   "metadata": {
    "collapsed": false
   },
   "outputs": [
    {
     "data": {
      "text/html": [
       "<div>\n",
       "<table border=\"1\" class=\"dataframe\">\n",
       "  <thead>\n",
       "    <tr style=\"text-align: right;\">\n",
       "      <th></th>\n",
       "      <th>site_id</th>\n",
       "      <th>account</th>\n",
       "      <th>action</th>\n",
       "      <th>date</th>\n",
       "      <th>source</th>\n",
       "      <th>details</th>\n",
       "      <th>churn</th>\n",
       "    </tr>\n",
       "  </thead>\n",
       "  <tbody>\n",
       "    <tr>\n",
       "      <th>501550</th>\n",
       "      <td>150</td>\n",
       "      <td>3302</td>\n",
       "      <td>['P', '-', 'medium']</td>\n",
       "      <td>2015-08-06</td>\n",
       "      <td>system</td>\n",
       "      <td>casual change: 0.175</td>\n",
       "      <td>1</td>\n",
       "    </tr>\n",
       "    <tr>\n",
       "      <th>501551</th>\n",
       "      <td>106</td>\n",
       "      <td>22403</td>\n",
       "      <td>['P', '+', 'high']</td>\n",
       "      <td>2014-12-26</td>\n",
       "      <td>system</td>\n",
       "      <td>casual change: 1.0</td>\n",
       "      <td>1</td>\n",
       "    </tr>\n",
       "    <tr>\n",
       "      <th>501552</th>\n",
       "      <td>106</td>\n",
       "      <td>22403</td>\n",
       "      <td>['P', '-', 'low']</td>\n",
       "      <td>2015-02-26</td>\n",
       "      <td>system</td>\n",
       "      <td>casual change: 0.120559313363</td>\n",
       "      <td>1</td>\n",
       "    </tr>\n",
       "    <tr>\n",
       "      <th>501553</th>\n",
       "      <td>106</td>\n",
       "      <td>22403</td>\n",
       "      <td>['P', '-', 'medium']</td>\n",
       "      <td>2015-03-26</td>\n",
       "      <td>system</td>\n",
       "      <td>casual change: 0.476118148914</td>\n",
       "      <td>1</td>\n",
       "    </tr>\n",
       "    <tr>\n",
       "      <th>501554</th>\n",
       "      <td>106</td>\n",
       "      <td>22403</td>\n",
       "      <td>['P', '-', 'low']</td>\n",
       "      <td>2015-04-27</td>\n",
       "      <td>system</td>\n",
       "      <td>casual change: 0.03306396891</td>\n",
       "      <td>1</td>\n",
       "    </tr>\n",
       "  </tbody>\n",
       "</table>\n",
       "</div>"
      ],
      "text/plain": [
       "       site_id account                action        date  source  \\\n",
       "501550     150    3302  ['P', '-', 'medium']  2015-08-06  system   \n",
       "501551     106   22403    ['P', '+', 'high']  2014-12-26  system   \n",
       "501552     106   22403     ['P', '-', 'low']  2015-02-26  system   \n",
       "501553     106   22403  ['P', '-', 'medium']  2015-03-26  system   \n",
       "501554     106   22403     ['P', '-', 'low']  2015-04-27  system   \n",
       "\n",
       "                              details  churn  \n",
       "501550           casual change: 0.175      1  \n",
       "501551             casual change: 1.0      1  \n",
       "501552  casual change: 0.120559313363      1  \n",
       "501553  casual change: 0.476118148914      1  \n",
       "501554   casual change: 0.03306396891      1  "
      ]
     },
     "execution_count": 61,
     "metadata": {},
     "output_type": "execute_result"
    }
   ],
   "source": [
    "transaction = events[events.action.apply(lambda x : True if 'transaction_change' in str(x) else False)]\n",
    "transaction = transaction.drop('event', axis=1)\n",
    "transaction.action = transaction.action.apply(lambda x : str(str(x).split(':')[1:]))\n",
    "transaction.head()"
   ]
  },
  {
   "cell_type": "code",
   "execution_count": 67,
   "metadata": {
    "collapsed": false
   },
   "outputs": [
    {
     "data": {
      "text/plain": [
       "501550    P\n",
       "501551    P\n",
       "501552    P\n",
       "501553    P\n",
       "501554    P\n",
       "Name: action, dtype: object"
      ]
     },
     "execution_count": 67,
     "metadata": {},
     "output_type": "execute_result"
    }
   ],
   "source": [
    "tr_type = transaction.action.apply(lambda x: str(x).split(',')[0].strip(\" '[\"))\n",
    "sign = transaction.action.apply(lambda x: str(x).split(',')[1].strip(\" '\"))\n",
    "level = transaction.action.apply(lambda x: str(x).split(',')[2].strip(\" ']\"))\n",
    "tr_type.head()"
   ]
  },
  {
   "cell_type": "code",
   "execution_count": 70,
   "metadata": {
    "collapsed": false
   },
   "outputs": [
    {
     "data": {
      "text/plain": [
       "casual change    149184\n",
       "Name: details, dtype: int64"
      ]
     },
     "execution_count": 70,
     "metadata": {},
     "output_type": "execute_result"
    }
   ],
   "source": [
    "change = transaction.details.apply(lambda x: str(x).split(':')[0].strip(\" \"))\n",
    "change_num = transaction.details.apply(lambda x: str(x).split(':')[1].strip(\" \"))\n",
    "change.value_counts()"
   ]
  },
  {
   "cell_type": "code",
   "execution_count": 71,
   "metadata": {
    "collapsed": false
   },
   "outputs": [
    {
     "data": {
      "text/html": [
       "<div>\n",
       "<table border=\"1\" class=\"dataframe\">\n",
       "  <thead>\n",
       "    <tr style=\"text-align: right;\">\n",
       "      <th></th>\n",
       "      <th>site_id</th>\n",
       "      <th>account</th>\n",
       "      <th>transaction_type</th>\n",
       "      <th>sign</th>\n",
       "      <th>level</th>\n",
       "      <th>casual_change</th>\n",
       "      <th>date</th>\n",
       "      <th>source</th>\n",
       "    </tr>\n",
       "  </thead>\n",
       "  <tbody>\n",
       "    <tr>\n",
       "      <th>501550</th>\n",
       "      <td>150</td>\n",
       "      <td>3302</td>\n",
       "      <td>P</td>\n",
       "      <td>-</td>\n",
       "      <td>medium</td>\n",
       "      <td>0.175</td>\n",
       "      <td>2015-08-06</td>\n",
       "      <td>system</td>\n",
       "    </tr>\n",
       "    <tr>\n",
       "      <th>501551</th>\n",
       "      <td>106</td>\n",
       "      <td>22403</td>\n",
       "      <td>P</td>\n",
       "      <td>+</td>\n",
       "      <td>high</td>\n",
       "      <td>1.0</td>\n",
       "      <td>2014-12-26</td>\n",
       "      <td>system</td>\n",
       "    </tr>\n",
       "    <tr>\n",
       "      <th>501552</th>\n",
       "      <td>106</td>\n",
       "      <td>22403</td>\n",
       "      <td>P</td>\n",
       "      <td>-</td>\n",
       "      <td>low</td>\n",
       "      <td>0.120559313363</td>\n",
       "      <td>2015-02-26</td>\n",
       "      <td>system</td>\n",
       "    </tr>\n",
       "    <tr>\n",
       "      <th>501553</th>\n",
       "      <td>106</td>\n",
       "      <td>22403</td>\n",
       "      <td>P</td>\n",
       "      <td>-</td>\n",
       "      <td>medium</td>\n",
       "      <td>0.476118148914</td>\n",
       "      <td>2015-03-26</td>\n",
       "      <td>system</td>\n",
       "    </tr>\n",
       "    <tr>\n",
       "      <th>501554</th>\n",
       "      <td>106</td>\n",
       "      <td>22403</td>\n",
       "      <td>P</td>\n",
       "      <td>-</td>\n",
       "      <td>low</td>\n",
       "      <td>0.03306396891</td>\n",
       "      <td>2015-04-27</td>\n",
       "      <td>system</td>\n",
       "    </tr>\n",
       "  </tbody>\n",
       "</table>\n",
       "</div>"
      ],
      "text/plain": [
       "       site_id account transaction_type sign   level   casual_change  \\\n",
       "501550     150    3302                P    -  medium           0.175   \n",
       "501551     106   22403                P    +    high             1.0   \n",
       "501552     106   22403                P    -     low  0.120559313363   \n",
       "501553     106   22403                P    -  medium  0.476118148914   \n",
       "501554     106   22403                P    -     low   0.03306396891   \n",
       "\n",
       "              date  source  \n",
       "501550  2015-08-06  system  \n",
       "501551  2014-12-26  system  \n",
       "501552  2015-02-26  system  \n",
       "501553  2015-03-26  system  \n",
       "501554  2015-04-27  system  "
      ]
     },
     "execution_count": 71,
     "metadata": {},
     "output_type": "execute_result"
    }
   ],
   "source": [
    "transaction.insert(2, 'transaction_type', tr_type)\n",
    "transaction.insert(3, 'sign', sign)\n",
    "transaction.insert(4, 'level', level)\n",
    "transaction.insert(5, 'casual_change', change_num)\n",
    "transaction.drop(['action', 'details', 'churn'], axis=1, inplace=True)\n",
    "transaction.head()"
   ]
  },
  {
   "cell_type": "code",
   "execution_count": 74,
   "metadata": {
    "collapsed": false
   },
   "outputs": [],
   "source": [
    "def convert_type(x):\n",
    "    res = \"unknown\"\n",
    "    \n",
    "    if x == 'U':\n",
    "        res = \"usage\"\n",
    "    elif x == 'R':\n",
    "        res = \"recurring\"\n",
    "    elif x == 'Q':\n",
    "        res = \"prorates\"\n",
    "    elif x == 'P':\n",
    "        res = \"payments\"\n",
    "    \n",
    "    return res"
   ]
  },
  {
   "cell_type": "code",
   "execution_count": 75,
   "metadata": {
    "collapsed": false
   },
   "outputs": [
    {
     "data": {
      "text/plain": [
       "payments     74322\n",
       "recurring    57300\n",
       "prorates     13826\n",
       "usage         3736\n",
       "Name: transaction_type, dtype: int64"
      ]
     },
     "execution_count": 75,
     "metadata": {},
     "output_type": "execute_result"
    }
   ],
   "source": [
    "transaction.transaction_type = transaction.transaction_type.apply(convert_type)\n",
    "transaction.transaction_type.value_counts()"
   ]
  },
  {
   "cell_type": "code",
   "execution_count": 78,
   "metadata": {
    "collapsed": false
   },
   "outputs": [
    {
     "data": {
      "text/html": [
       "<div>\n",
       "<table border=\"1\" class=\"dataframe\">\n",
       "  <thead>\n",
       "    <tr style=\"text-align: right;\">\n",
       "      <th></th>\n",
       "      <th>site_id</th>\n",
       "      <th>account_id</th>\n",
       "      <th>transaction_type</th>\n",
       "      <th>sign</th>\n",
       "      <th>level</th>\n",
       "      <th>casual_change</th>\n",
       "      <th>date</th>\n",
       "      <th>source</th>\n",
       "    </tr>\n",
       "  </thead>\n",
       "  <tbody>\n",
       "    <tr>\n",
       "      <th>501550</th>\n",
       "      <td>150</td>\n",
       "      <td>3302</td>\n",
       "      <td>payments</td>\n",
       "      <td>-</td>\n",
       "      <td>medium</td>\n",
       "      <td>0.175</td>\n",
       "      <td>2015-08-06</td>\n",
       "      <td>system</td>\n",
       "    </tr>\n",
       "    <tr>\n",
       "      <th>501551</th>\n",
       "      <td>106</td>\n",
       "      <td>22403</td>\n",
       "      <td>payments</td>\n",
       "      <td>+</td>\n",
       "      <td>high</td>\n",
       "      <td>1.0</td>\n",
       "      <td>2014-12-26</td>\n",
       "      <td>system</td>\n",
       "    </tr>\n",
       "    <tr>\n",
       "      <th>501552</th>\n",
       "      <td>106</td>\n",
       "      <td>22403</td>\n",
       "      <td>payments</td>\n",
       "      <td>-</td>\n",
       "      <td>low</td>\n",
       "      <td>0.120559313363</td>\n",
       "      <td>2015-02-26</td>\n",
       "      <td>system</td>\n",
       "    </tr>\n",
       "    <tr>\n",
       "      <th>501553</th>\n",
       "      <td>106</td>\n",
       "      <td>22403</td>\n",
       "      <td>payments</td>\n",
       "      <td>-</td>\n",
       "      <td>medium</td>\n",
       "      <td>0.476118148914</td>\n",
       "      <td>2015-03-26</td>\n",
       "      <td>system</td>\n",
       "    </tr>\n",
       "    <tr>\n",
       "      <th>501554</th>\n",
       "      <td>106</td>\n",
       "      <td>22403</td>\n",
       "      <td>payments</td>\n",
       "      <td>-</td>\n",
       "      <td>low</td>\n",
       "      <td>0.03306396891</td>\n",
       "      <td>2015-04-27</td>\n",
       "      <td>system</td>\n",
       "    </tr>\n",
       "  </tbody>\n",
       "</table>\n",
       "</div>"
      ],
      "text/plain": [
       "       site_id account_id transaction_type sign   level   casual_change  \\\n",
       "501550     150       3302         payments    -  medium           0.175   \n",
       "501551     106      22403         payments    +    high             1.0   \n",
       "501552     106      22403         payments    -     low  0.120559313363   \n",
       "501553     106      22403         payments    -  medium  0.476118148914   \n",
       "501554     106      22403         payments    -     low   0.03306396891   \n",
       "\n",
       "              date  source  \n",
       "501550  2015-08-06  system  \n",
       "501551  2014-12-26  system  \n",
       "501552  2015-02-26  system  \n",
       "501553  2015-03-26  system  \n",
       "501554  2015-04-27  system  "
      ]
     },
     "execution_count": 78,
     "metadata": {},
     "output_type": "execute_result"
    }
   ],
   "source": [
    "transaction = transaction.rename(columns={\"account\" : \"account_id\"})\n",
    "transaction.head()"
   ]
  },
  {
   "cell_type": "code",
   "execution_count": 79,
   "metadata": {
    "collapsed": true
   },
   "outputs": [],
   "source": [
    "transaction.to_csv(\"transaction_change.csv\")"
   ]
  },
  {
   "cell_type": "code",
   "execution_count": 80,
   "metadata": {
    "collapsed": false
   },
   "outputs": [
    {
     "data": {
      "text/plain": [
       "['R', '+']    6826\n",
       "['P', '+']    5691\n",
       "['R', '-']    2975\n",
       "['P', '-']    2392\n",
       "['U', '+']     495\n",
       "['Q', '+']     384\n",
       "['Q', '-']     165\n",
       "['U', '-']     107\n",
       "Name: action, dtype: int64"
      ]
     },
     "execution_count": 80,
     "metadata": {},
     "output_type": "execute_result"
    }
   ],
   "source": [
    "peaks = events[events.action.apply(lambda x : True if 'peak' in str(x) else False)]\n",
    "peaks = peaks.drop('event', axis=1)\n",
    "peaks.action = peaks.action.apply(lambda x : str(str(x).split(':')[1:]))\n",
    "peaks.action.value_counts()"
   ]
  },
  {
   "cell_type": "code",
   "execution_count": 82,
   "metadata": {
    "collapsed": false
   },
   "outputs": [
    {
     "data": {
      "text/plain": [
       "R    9801\n",
       "P    8083\n",
       "U     602\n",
       "Q     549\n",
       "Name: action, dtype: int64"
      ]
     },
     "execution_count": 82,
     "metadata": {},
     "output_type": "execute_result"
    }
   ],
   "source": [
    "peak_type = peaks.action.apply(lambda x: str(x).split(',')[0].strip(\" '[\"))\n",
    "peak_sign = peaks.action.apply(lambda x: str(x).split(',')[1].strip(\" ']\"))\n",
    "peak_num = peaks.details.apply(lambda x: str(x).split(':')[1].strip(\" \"))\n",
    "peak_type.value_counts()"
   ]
  },
  {
   "cell_type": "code",
   "execution_count": 83,
   "metadata": {
    "collapsed": false
   },
   "outputs": [
    {
     "data": {
      "text/html": [
       "<div>\n",
       "<table border=\"1\" class=\"dataframe\">\n",
       "  <thead>\n",
       "    <tr style=\"text-align: right;\">\n",
       "      <th></th>\n",
       "      <th>site_id</th>\n",
       "      <th>account</th>\n",
       "      <th>action</th>\n",
       "      <th>date</th>\n",
       "      <th>source</th>\n",
       "      <th>details</th>\n",
       "      <th>churn</th>\n",
       "    </tr>\n",
       "  </thead>\n",
       "  <tbody>\n",
       "    <tr>\n",
       "      <th>11</th>\n",
       "      <td>106</td>\n",
       "      <td>22403</td>\n",
       "      <td>['P', '+']</td>\n",
       "      <td>2015-01-14</td>\n",
       "      <td>system</td>\n",
       "      <td>Abrupt change: 351.86</td>\n",
       "      <td>0</td>\n",
       "    </tr>\n",
       "    <tr>\n",
       "      <th>12</th>\n",
       "      <td>106</td>\n",
       "      <td>22403</td>\n",
       "      <td>['P', '-']</td>\n",
       "      <td>2015-04-27</td>\n",
       "      <td>system</td>\n",
       "      <td>Abrupt change: 156.75</td>\n",
       "      <td>0</td>\n",
       "    </tr>\n",
       "    <tr>\n",
       "      <th>13</th>\n",
       "      <td>106</td>\n",
       "      <td>22403</td>\n",
       "      <td>['P', '+']</td>\n",
       "      <td>2015-08-26</td>\n",
       "      <td>system</td>\n",
       "      <td>Abrupt change: 174.29</td>\n",
       "      <td>0</td>\n",
       "    </tr>\n",
       "    <tr>\n",
       "      <th>14</th>\n",
       "      <td>106</td>\n",
       "      <td>22403</td>\n",
       "      <td>['R', '-']</td>\n",
       "      <td>2015-03-09</td>\n",
       "      <td>system</td>\n",
       "      <td>Abrupt change: 144.92</td>\n",
       "      <td>0</td>\n",
       "    </tr>\n",
       "    <tr>\n",
       "      <th>15</th>\n",
       "      <td>106</td>\n",
       "      <td>22403</td>\n",
       "      <td>['R', '-']</td>\n",
       "      <td>2015-07-09</td>\n",
       "      <td>system</td>\n",
       "      <td>Abrupt change: 158.15</td>\n",
       "      <td>0</td>\n",
       "    </tr>\n",
       "  </tbody>\n",
       "</table>\n",
       "</div>"
      ],
      "text/plain": [
       "   site_id account      action        date  source                details  \\\n",
       "11     106   22403  ['P', '+']  2015-01-14  system  Abrupt change: 351.86   \n",
       "12     106   22403  ['P', '-']  2015-04-27  system  Abrupt change: 156.75   \n",
       "13     106   22403  ['P', '+']  2015-08-26  system  Abrupt change: 174.29   \n",
       "14     106   22403  ['R', '-']  2015-03-09  system  Abrupt change: 144.92   \n",
       "15     106   22403  ['R', '-']  2015-07-09  system  Abrupt change: 158.15   \n",
       "\n",
       "    churn  \n",
       "11      0  \n",
       "12      0  \n",
       "13      0  \n",
       "14      0  \n",
       "15      0  "
      ]
     },
     "execution_count": 83,
     "metadata": {},
     "output_type": "execute_result"
    }
   ],
   "source": [
    "peaks.head()"
   ]
  },
  {
   "cell_type": "code",
   "execution_count": 84,
   "metadata": {
    "collapsed": false
   },
   "outputs": [
    {
     "data": {
      "text/plain": [
       "0    19035\n",
       "Name: churn, dtype: int64"
      ]
     },
     "execution_count": 84,
     "metadata": {},
     "output_type": "execute_result"
    }
   ],
   "source": [
    "peaks.churn.value_counts()"
   ]
  },
  {
   "cell_type": "code",
   "execution_count": 85,
   "metadata": {
    "collapsed": false
   },
   "outputs": [
    {
     "data": {
      "text/html": [
       "<div>\n",
       "<table border=\"1\" class=\"dataframe\">\n",
       "  <thead>\n",
       "    <tr style=\"text-align: right;\">\n",
       "      <th></th>\n",
       "      <th>site_id</th>\n",
       "      <th>account</th>\n",
       "      <th>peak_type</th>\n",
       "      <th>sign</th>\n",
       "      <th>abrupt_change</th>\n",
       "      <th>date</th>\n",
       "      <th>source</th>\n",
       "    </tr>\n",
       "  </thead>\n",
       "  <tbody>\n",
       "    <tr>\n",
       "      <th>11</th>\n",
       "      <td>106</td>\n",
       "      <td>22403</td>\n",
       "      <td>P</td>\n",
       "      <td>+</td>\n",
       "      <td>351.86</td>\n",
       "      <td>2015-01-14</td>\n",
       "      <td>system</td>\n",
       "    </tr>\n",
       "    <tr>\n",
       "      <th>12</th>\n",
       "      <td>106</td>\n",
       "      <td>22403</td>\n",
       "      <td>P</td>\n",
       "      <td>-</td>\n",
       "      <td>156.75</td>\n",
       "      <td>2015-04-27</td>\n",
       "      <td>system</td>\n",
       "    </tr>\n",
       "    <tr>\n",
       "      <th>13</th>\n",
       "      <td>106</td>\n",
       "      <td>22403</td>\n",
       "      <td>P</td>\n",
       "      <td>+</td>\n",
       "      <td>174.29</td>\n",
       "      <td>2015-08-26</td>\n",
       "      <td>system</td>\n",
       "    </tr>\n",
       "    <tr>\n",
       "      <th>14</th>\n",
       "      <td>106</td>\n",
       "      <td>22403</td>\n",
       "      <td>R</td>\n",
       "      <td>-</td>\n",
       "      <td>144.92</td>\n",
       "      <td>2015-03-09</td>\n",
       "      <td>system</td>\n",
       "    </tr>\n",
       "    <tr>\n",
       "      <th>15</th>\n",
       "      <td>106</td>\n",
       "      <td>22403</td>\n",
       "      <td>R</td>\n",
       "      <td>-</td>\n",
       "      <td>158.15</td>\n",
       "      <td>2015-07-09</td>\n",
       "      <td>system</td>\n",
       "    </tr>\n",
       "  </tbody>\n",
       "</table>\n",
       "</div>"
      ],
      "text/plain": [
       "   site_id account peak_type sign abrupt_change        date  source\n",
       "11     106   22403         P    +        351.86  2015-01-14  system\n",
       "12     106   22403         P    -        156.75  2015-04-27  system\n",
       "13     106   22403         P    +        174.29  2015-08-26  system\n",
       "14     106   22403         R    -        144.92  2015-03-09  system\n",
       "15     106   22403         R    -        158.15  2015-07-09  system"
      ]
     },
     "execution_count": 85,
     "metadata": {},
     "output_type": "execute_result"
    }
   ],
   "source": [
    "peaks.insert(2, 'peak_type', peak_type)\n",
    "peaks.insert(3, 'sign', peak_sign)\n",
    "peaks.insert(4, 'abrupt_change', peak_num)\n",
    "peaks.drop(['action', 'details', 'churn'], axis=1, inplace=True)\n",
    "peaks.head()"
   ]
  },
  {
   "cell_type": "code",
   "execution_count": 87,
   "metadata": {
    "collapsed": false
   },
   "outputs": [
    {
     "data": {
      "text/plain": [
       "recurring    9801\n",
       "payments     8083\n",
       "usage         602\n",
       "prorates      549\n",
       "Name: peak_type, dtype: int64"
      ]
     },
     "execution_count": 87,
     "metadata": {},
     "output_type": "execute_result"
    }
   ],
   "source": [
    "peaks.peak_type = peaks.peak_type.apply(convert_type)\n",
    "peaks.peak_type.value_counts()"
   ]
  },
  {
   "cell_type": "code",
   "execution_count": 88,
   "metadata": {
    "collapsed": true
   },
   "outputs": [],
   "source": [
    "peaks = peaks.rename(columns={\"account\" : \"account_id\"})\n",
    "peaks.to_csv(\"peak_changes.csv\")"
   ]
  },
  {
   "cell_type": "code",
   "execution_count": 89,
   "metadata": {
    "collapsed": false
   },
   "outputs": [
    {
     "data": {
      "text/html": [
       "<div>\n",
       "<table border=\"1\" class=\"dataframe\">\n",
       "  <thead>\n",
       "    <tr style=\"text-align: right;\">\n",
       "      <th></th>\n",
       "      <th>site_id</th>\n",
       "      <th>account</th>\n",
       "      <th>one_time_charge</th>\n",
       "      <th>date</th>\n",
       "      <th>source</th>\n",
       "      <th>churn</th>\n",
       "    </tr>\n",
       "  </thead>\n",
       "  <tbody>\n",
       "    <tr>\n",
       "      <th>17</th>\n",
       "      <td>106</td>\n",
       "      <td>22403</td>\n",
       "      <td>0.0</td>\n",
       "      <td>2014-12-31</td>\n",
       "      <td>system</td>\n",
       "      <td>0</td>\n",
       "    </tr>\n",
       "    <tr>\n",
       "      <th>18</th>\n",
       "      <td>106</td>\n",
       "      <td>22403</td>\n",
       "      <td>0.0</td>\n",
       "      <td>2015-01-13</td>\n",
       "      <td>system</td>\n",
       "      <td>0</td>\n",
       "    </tr>\n",
       "    <tr>\n",
       "      <th>19</th>\n",
       "      <td>106</td>\n",
       "      <td>22403</td>\n",
       "      <td>0.0</td>\n",
       "      <td>2015-08-02</td>\n",
       "      <td>system</td>\n",
       "      <td>0</td>\n",
       "    </tr>\n",
       "    <tr>\n",
       "      <th>20</th>\n",
       "      <td>106</td>\n",
       "      <td>22403</td>\n",
       "      <td>30.0</td>\n",
       "      <td>2015-09-02</td>\n",
       "      <td>system</td>\n",
       "      <td>0</td>\n",
       "    </tr>\n",
       "    <tr>\n",
       "      <th>121</th>\n",
       "      <td>106</td>\n",
       "      <td>79002</td>\n",
       "      <td>0.0</td>\n",
       "      <td>2015-08-25</td>\n",
       "      <td>system</td>\n",
       "      <td>0</td>\n",
       "    </tr>\n",
       "  </tbody>\n",
       "</table>\n",
       "</div>"
      ],
      "text/plain": [
       "    site_id account one_time_charge        date  source  churn\n",
       "17      106   22403             0.0  2014-12-31  system      0\n",
       "18      106   22403             0.0  2015-01-13  system      0\n",
       "19      106   22403             0.0  2015-08-02  system      0\n",
       "20      106   22403            30.0  2015-09-02  system      0\n",
       "121     106   79002             0.0  2015-08-25  system      0"
      ]
     },
     "execution_count": 89,
     "metadata": {},
     "output_type": "execute_result"
    }
   ],
   "source": [
    "one_time = events[events.action.apply(lambda x : True if 'onetime_charge' in str(x) else False)]\n",
    "one_time = one_time.drop('event', axis=1)\n",
    "change_num = one_time.details.apply(lambda x: str(x).split(':')[1].strip())\n",
    "one_time.insert(2, 'one_time_charge', change_num)\n",
    "one_time.drop(['action', 'details'], axis=1, inplace=True)\n",
    "one_time.head()"
   ]
  },
  {
   "cell_type": "code",
   "execution_count": 92,
   "metadata": {
    "collapsed": false
   },
   "outputs": [
    {
     "ename": "ValueError",
     "evalue": "labels ['churn'] not contained in axis",
     "output_type": "error",
     "traceback": [
      "\u001b[1;31m---------------------------------------------------------------------------\u001b[0m",
      "\u001b[1;31mValueError\u001b[0m                                Traceback (most recent call last)",
      "\u001b[1;32m<ipython-input-92-4a93a709f460>\u001b[0m in \u001b[0;36m<module>\u001b[1;34m()\u001b[0m\n\u001b[1;32m----> 1\u001b[1;33m \u001b[0mone_time\u001b[0m\u001b[1;33m.\u001b[0m\u001b[0mdrop\u001b[0m\u001b[1;33m(\u001b[0m\u001b[1;34m'churn'\u001b[0m\u001b[1;33m,\u001b[0m \u001b[0maxis\u001b[0m\u001b[1;33m=\u001b[0m\u001b[1;36m1\u001b[0m\u001b[1;33m,\u001b[0m \u001b[0minplace\u001b[0m\u001b[1;33m=\u001b[0m\u001b[0mTrue\u001b[0m\u001b[1;33m)\u001b[0m\u001b[1;33m\u001b[0m\u001b[0m\n\u001b[0m\u001b[0;32m      2\u001b[0m \u001b[0mone_time\u001b[0m \u001b[1;33m=\u001b[0m \u001b[0mone_time\u001b[0m\u001b[1;33m.\u001b[0m\u001b[0mrename\u001b[0m\u001b[1;33m(\u001b[0m\u001b[0mcolumns\u001b[0m\u001b[1;33m=\u001b[0m\u001b[1;33m{\u001b[0m\u001b[1;34m\"account\"\u001b[0m \u001b[1;33m:\u001b[0m \u001b[1;34m\"account_id\"\u001b[0m\u001b[1;33m}\u001b[0m\u001b[1;33m)\u001b[0m\u001b[1;33m\u001b[0m\u001b[0m\n\u001b[0;32m      3\u001b[0m \u001b[0mone_time\u001b[0m\u001b[1;33m.\u001b[0m\u001b[0mto_csv\u001b[0m\u001b[1;33m(\u001b[0m\u001b[1;34m\"one_time_charge.csv\"\u001b[0m\u001b[1;33m)\u001b[0m\u001b[1;33m\u001b[0m\u001b[0m\n",
      "\u001b[1;32mC:\\Users\\yuranich\\Anaconda2\\lib\\site-packages\\pandas\\core\\generic.pyc\u001b[0m in \u001b[0;36mdrop\u001b[1;34m(self, labels, axis, level, inplace, errors)\u001b[0m\n\u001b[0;32m   1871\u001b[0m                 \u001b[0mnew_axis\u001b[0m \u001b[1;33m=\u001b[0m \u001b[0maxis\u001b[0m\u001b[1;33m.\u001b[0m\u001b[0mdrop\u001b[0m\u001b[1;33m(\u001b[0m\u001b[0mlabels\u001b[0m\u001b[1;33m,\u001b[0m \u001b[0mlevel\u001b[0m\u001b[1;33m=\u001b[0m\u001b[0mlevel\u001b[0m\u001b[1;33m,\u001b[0m \u001b[0merrors\u001b[0m\u001b[1;33m=\u001b[0m\u001b[0merrors\u001b[0m\u001b[1;33m)\u001b[0m\u001b[1;33m\u001b[0m\u001b[0m\n\u001b[0;32m   1872\u001b[0m             \u001b[1;32melse\u001b[0m\u001b[1;33m:\u001b[0m\u001b[1;33m\u001b[0m\u001b[0m\n\u001b[1;32m-> 1873\u001b[1;33m                 \u001b[0mnew_axis\u001b[0m \u001b[1;33m=\u001b[0m \u001b[0maxis\u001b[0m\u001b[1;33m.\u001b[0m\u001b[0mdrop\u001b[0m\u001b[1;33m(\u001b[0m\u001b[0mlabels\u001b[0m\u001b[1;33m,\u001b[0m \u001b[0merrors\u001b[0m\u001b[1;33m=\u001b[0m\u001b[0merrors\u001b[0m\u001b[1;33m)\u001b[0m\u001b[1;33m\u001b[0m\u001b[0m\n\u001b[0m\u001b[0;32m   1874\u001b[0m             \u001b[0mdropped\u001b[0m \u001b[1;33m=\u001b[0m \u001b[0mself\u001b[0m\u001b[1;33m.\u001b[0m\u001b[0mreindex\u001b[0m\u001b[1;33m(\u001b[0m\u001b[1;33m**\u001b[0m\u001b[1;33m{\u001b[0m\u001b[0maxis_name\u001b[0m\u001b[1;33m:\u001b[0m \u001b[0mnew_axis\u001b[0m\u001b[1;33m}\u001b[0m\u001b[1;33m)\u001b[0m\u001b[1;33m\u001b[0m\u001b[0m\n\u001b[0;32m   1875\u001b[0m             \u001b[1;32mtry\u001b[0m\u001b[1;33m:\u001b[0m\u001b[1;33m\u001b[0m\u001b[0m\n",
      "\u001b[1;32mC:\\Users\\yuranich\\Anaconda2\\lib\\site-packages\\pandas\\indexes\\base.pyc\u001b[0m in \u001b[0;36mdrop\u001b[1;34m(self, labels, errors)\u001b[0m\n\u001b[0;32m   2964\u001b[0m             \u001b[1;32mif\u001b[0m \u001b[0merrors\u001b[0m \u001b[1;33m!=\u001b[0m \u001b[1;34m'ignore'\u001b[0m\u001b[1;33m:\u001b[0m\u001b[1;33m\u001b[0m\u001b[0m\n\u001b[0;32m   2965\u001b[0m                 raise ValueError('labels %s not contained in axis' %\n\u001b[1;32m-> 2966\u001b[1;33m                                  labels[mask])\n\u001b[0m\u001b[0;32m   2967\u001b[0m             \u001b[0mindexer\u001b[0m \u001b[1;33m=\u001b[0m \u001b[0mindexer\u001b[0m\u001b[1;33m[\u001b[0m\u001b[1;33m~\u001b[0m\u001b[0mmask\u001b[0m\u001b[1;33m]\u001b[0m\u001b[1;33m\u001b[0m\u001b[0m\n\u001b[0;32m   2968\u001b[0m         \u001b[1;32mreturn\u001b[0m \u001b[0mself\u001b[0m\u001b[1;33m.\u001b[0m\u001b[0mdelete\u001b[0m\u001b[1;33m(\u001b[0m\u001b[0mindexer\u001b[0m\u001b[1;33m)\u001b[0m\u001b[1;33m\u001b[0m\u001b[0m\n",
      "\u001b[1;31mValueError\u001b[0m: labels ['churn'] not contained in axis"
     ]
    }
   ],
   "source": [
    "one_time.drop('churn', axis=1, inplace=True)"
   ]
  },
  {
   "cell_type": "code",
   "execution_count": 94,
   "metadata": {
    "collapsed": false
   },
   "outputs": [],
   "source": [
    "one_time = one_time.rename(columns={\"account\" : \"account_id\"})\n",
    "one_time.to_csv(\"one_time_charge.csv\")"
   ]
  },
  {
   "cell_type": "code",
   "execution_count": 96,
   "metadata": {
    "collapsed": false
   },
   "outputs": [
    {
     "data": {
      "text/plain": [
       "65.0     4366\n",
       "0.0      2347\n",
       "10.0     1217\n",
       "3.5      1012\n",
       "45.0      858\n",
       "3.25      697\n",
       "22.99     564\n",
       "5.0       542\n",
       "4.95      536\n",
       "49.82     499\n",
       "15.0      458\n",
       "24.99     403\n",
       "9.0       352\n",
       "16.0      347\n",
       "48.0      272\n",
       "56.0      239\n",
       "4.99      231\n",
       "60.0      210\n",
       "52.0      200\n",
       "7.0       174\n",
       "18.0      172\n",
       "20.0      164\n",
       "9.99      158\n",
       "24.97     157\n",
       "50.95     157\n",
       "14.99     157\n",
       "6.99      153\n",
       "13.0      153\n",
       "25.47     137\n",
       "10.19     137\n",
       "         ... \n",
       "95.0        2\n",
       "58.95       2\n",
       "33.99       2\n",
       "16.99       2\n",
       "27.5        1\n",
       "-10.0       1\n",
       "18.66       1\n",
       "9.16        1\n",
       "64.0        1\n",
       "35.0        1\n",
       "64.31       1\n",
       "3.31        1\n",
       "51.57       1\n",
       "42.7        1\n",
       "23.81       1\n",
       "7.39        1\n",
       "44.0        1\n",
       "35.55       1\n",
       "61.0        1\n",
       "7.5         1\n",
       "33.33       1\n",
       "38.0        1\n",
       "14.95       1\n",
       "78.0        1\n",
       "22.86       1\n",
       "6.5         1\n",
       "34.24       1\n",
       "53.0        1\n",
       "33.95       1\n",
       "91.0        1\n",
       "Name: details, dtype: int64"
      ]
     },
     "execution_count": 96,
     "metadata": {},
     "output_type": "execute_result"
    }
   ],
   "source": [
    "rate_changes = events[events.action.apply(lambda x : True if 'rate_changes' in str(x) else False)]\n",
    "rate_changes = rate_changes.drop(['event', 'action'], axis=1)\n",
    "change_from = rate_changes.details.apply(lambda x: str(x).split(' ')[3].strip())\n",
    "change_to   = rate_changes.details.apply(lambda x: str(x).split(' ')[5].strip())\n",
    "service = rate_changes.details.apply(lambda x: str(x).split(' ')[-1].strip())\n",
    "change_to.value_counts()"
   ]
  },
  {
   "cell_type": "code",
   "execution_count": 98,
   "metadata": {
    "collapsed": false
   },
   "outputs": [
    {
     "data": {
      "text/html": [
       "<div>\n",
       "<table border=\"1\" class=\"dataframe\">\n",
       "  <thead>\n",
       "    <tr style=\"text-align: right;\">\n",
       "      <th></th>\n",
       "      <th>site_id</th>\n",
       "      <th>account</th>\n",
       "      <th>from_rate</th>\n",
       "      <th>to_rate</th>\n",
       "      <th>service</th>\n",
       "      <th>date</th>\n",
       "      <th>source</th>\n",
       "      <th>details</th>\n",
       "      <th>churn</th>\n",
       "    </tr>\n",
       "  </thead>\n",
       "  <tbody>\n",
       "    <tr>\n",
       "      <th>8</th>\n",
       "      <td>106</td>\n",
       "      <td>22403</td>\n",
       "      <td>9.0</td>\n",
       "      <td>10.0</td>\n",
       "      <td>328</td>\n",
       "      <td>2015-01-13</td>\n",
       "      <td>system</td>\n",
       "      <td>Rate change from 9.0 to 10.0 service: 328</td>\n",
       "      <td>0</td>\n",
       "    </tr>\n",
       "    <tr>\n",
       "      <th>9</th>\n",
       "      <td>106</td>\n",
       "      <td>22403</td>\n",
       "      <td>52.0</td>\n",
       "      <td>56.0</td>\n",
       "      <td>30480</td>\n",
       "      <td>2015-01-13</td>\n",
       "      <td>system</td>\n",
       "      <td>Rate change from 52.0 to 56.0 service: 30480</td>\n",
       "      <td>0</td>\n",
       "    </tr>\n",
       "    <tr>\n",
       "      <th>10</th>\n",
       "      <td>106</td>\n",
       "      <td>22403</td>\n",
       "      <td>56.0</td>\n",
       "      <td>65.0</td>\n",
       "      <td>SP05000</td>\n",
       "      <td>2015-01-13</td>\n",
       "      <td>system</td>\n",
       "      <td>Rate change from 56.0 to 65.0 service: SP05000</td>\n",
       "      <td>0</td>\n",
       "    </tr>\n",
       "    <tr>\n",
       "      <th>117</th>\n",
       "      <td>106</td>\n",
       "      <td>79002</td>\n",
       "      <td>41.0</td>\n",
       "      <td>65.0</td>\n",
       "      <td>HSDBASE</td>\n",
       "      <td>2015-07-04</td>\n",
       "      <td>system</td>\n",
       "      <td>Rate change from 41.0 to 65.0 service: HSDBASE</td>\n",
       "      <td>0</td>\n",
       "    </tr>\n",
       "    <tr>\n",
       "      <th>175</th>\n",
       "      <td>150</td>\n",
       "      <td>131515</td>\n",
       "      <td>0.0</td>\n",
       "      <td>79.95</td>\n",
       "      <td>30433</td>\n",
       "      <td>2014-09-22</td>\n",
       "      <td>system</td>\n",
       "      <td>Rate change from 0.0 to 79.95 service: 30433</td>\n",
       "      <td>0</td>\n",
       "    </tr>\n",
       "  </tbody>\n",
       "</table>\n",
       "</div>"
      ],
      "text/plain": [
       "    site_id account from_rate to_rate  service        date  source  \\\n",
       "8       106   22403       9.0    10.0      328  2015-01-13  system   \n",
       "9       106   22403      52.0    56.0    30480  2015-01-13  system   \n",
       "10      106   22403      56.0    65.0  SP05000  2015-01-13  system   \n",
       "117     106   79002      41.0    65.0  HSDBASE  2015-07-04  system   \n",
       "175     150  131515       0.0   79.95    30433  2014-09-22  system   \n",
       "\n",
       "                                            details  churn  \n",
       "8         Rate change from 9.0 to 10.0 service: 328      0  \n",
       "9      Rate change from 52.0 to 56.0 service: 30480      0  \n",
       "10   Rate change from 56.0 to 65.0 service: SP05000      0  \n",
       "117  Rate change from 41.0 to 65.0 service: HSDBASE      0  \n",
       "175    Rate change from 0.0 to 79.95 service: 30433      0  "
      ]
     },
     "execution_count": 98,
     "metadata": {},
     "output_type": "execute_result"
    }
   ],
   "source": [
    "rate_changes.insert(2, 'from_rate', change_from)\n",
    "rate_changes.insert(3, 'to_rate', change_to)\n",
    "rate_changes.insert(4, 'service', service)\n",
    "rate_changes.head()"
   ]
  },
  {
   "cell_type": "code",
   "execution_count": 100,
   "metadata": {
    "collapsed": false,
    "scrolled": true
   },
   "outputs": [
    {
     "data": {
      "text/html": [
       "<div>\n",
       "<table border=\"1\" class=\"dataframe\">\n",
       "  <thead>\n",
       "    <tr style=\"text-align: right;\">\n",
       "      <th></th>\n",
       "      <th>site_id</th>\n",
       "      <th>account_id</th>\n",
       "      <th>from_rate</th>\n",
       "      <th>to_rate</th>\n",
       "      <th>service</th>\n",
       "      <th>date</th>\n",
       "      <th>source</th>\n",
       "    </tr>\n",
       "  </thead>\n",
       "  <tbody>\n",
       "    <tr>\n",
       "      <th>8</th>\n",
       "      <td>106</td>\n",
       "      <td>22403</td>\n",
       "      <td>9.0</td>\n",
       "      <td>10.0</td>\n",
       "      <td>328</td>\n",
       "      <td>2015-01-13</td>\n",
       "      <td>system</td>\n",
       "    </tr>\n",
       "    <tr>\n",
       "      <th>9</th>\n",
       "      <td>106</td>\n",
       "      <td>22403</td>\n",
       "      <td>52.0</td>\n",
       "      <td>56.0</td>\n",
       "      <td>30480</td>\n",
       "      <td>2015-01-13</td>\n",
       "      <td>system</td>\n",
       "    </tr>\n",
       "    <tr>\n",
       "      <th>10</th>\n",
       "      <td>106</td>\n",
       "      <td>22403</td>\n",
       "      <td>56.0</td>\n",
       "      <td>65.0</td>\n",
       "      <td>SP05000</td>\n",
       "      <td>2015-01-13</td>\n",
       "      <td>system</td>\n",
       "    </tr>\n",
       "    <tr>\n",
       "      <th>117</th>\n",
       "      <td>106</td>\n",
       "      <td>79002</td>\n",
       "      <td>41.0</td>\n",
       "      <td>65.0</td>\n",
       "      <td>HSDBASE</td>\n",
       "      <td>2015-07-04</td>\n",
       "      <td>system</td>\n",
       "    </tr>\n",
       "    <tr>\n",
       "      <th>175</th>\n",
       "      <td>150</td>\n",
       "      <td>131515</td>\n",
       "      <td>0.0</td>\n",
       "      <td>79.95</td>\n",
       "      <td>30433</td>\n",
       "      <td>2014-09-22</td>\n",
       "      <td>system</td>\n",
       "    </tr>\n",
       "  </tbody>\n",
       "</table>\n",
       "</div>"
      ],
      "text/plain": [
       "    site_id account_id from_rate to_rate  service        date  source\n",
       "8       106      22403       9.0    10.0      328  2015-01-13  system\n",
       "9       106      22403      52.0    56.0    30480  2015-01-13  system\n",
       "10      106      22403      56.0    65.0  SP05000  2015-01-13  system\n",
       "117     106      79002      41.0    65.0  HSDBASE  2015-07-04  system\n",
       "175     150     131515       0.0   79.95    30433  2014-09-22  system"
      ]
     },
     "execution_count": 100,
     "metadata": {},
     "output_type": "execute_result"
    }
   ],
   "source": [
    "rate_changes.drop(['details', 'churn'], axis=1, inplace=True)\n",
    "rate_changes = rate_changes.rename(columns={\"account\" : \"account_id\"})\n",
    "rate_changes.to_csv(\"rate_changes.csv\")\n",
    "rate_changes.head()"
   ]
  },
  {
   "cell_type": "code",
   "execution_count": 101,
   "metadata": {
    "collapsed": false
   },
   "outputs": [
    {
     "data": {
      "text/plain": [
       "0    234025\n",
       "Name: churn, dtype: int64"
      ]
     },
     "execution_count": 101,
     "metadata": {},
     "output_type": "execute_result"
    }
   ],
   "source": [
    "orders.churn.value_counts()"
   ]
  },
  {
   "cell_type": "code",
   "execution_count": 102,
   "metadata": {
    "collapsed": false
   },
   "outputs": [
    {
     "data": {
      "text/plain": [
       "0    90305\n",
       "Name: churn, dtype: int64"
      ]
     },
     "execution_count": 102,
     "metadata": {},
     "output_type": "execute_result"
    }
   ],
   "source": [
    "promos.churn.value_counts()"
   ]
  },
  {
   "cell_type": "code",
   "execution_count": 103,
   "metadata": {
    "collapsed": false
   },
   "outputs": [
    {
     "data": {
      "text/plain": [
       "0    26979\n",
       "Name: churn, dtype: int64"
      ]
     },
     "execution_count": 103,
     "metadata": {},
     "output_type": "execute_result"
    }
   ],
   "source": [
    "calls.churn.value_counts()"
   ]
  },
  {
   "cell_type": "code",
   "execution_count": 104,
   "metadata": {
    "collapsed": false
   },
   "outputs": [
    {
     "name": "stderr",
     "output_type": "stream",
     "text": [
      "C:\\Users\\yuranich\\Anaconda2\\lib\\site-packages\\ipykernel\\__main__.py:1: SettingWithCopyWarning: \n",
      "A value is trying to be set on a copy of a slice from a DataFrame\n",
      "\n",
      "See the caveats in the documentation: http://pandas.pydata.org/pandas-docs/stable/indexing.html#indexing-view-versus-copy\n",
      "  if __name__ == '__main__':\n",
      "C:\\Users\\yuranich\\Anaconda2\\lib\\site-packages\\ipykernel\\__main__.py:3: SettingWithCopyWarning: \n",
      "A value is trying to be set on a copy of a slice from a DataFrame\n",
      "\n",
      "See the caveats in the documentation: http://pandas.pydata.org/pandas-docs/stable/indexing.html#indexing-view-versus-copy\n",
      "  app.launch_new_instance()\n"
     ]
    }
   ],
   "source": [
    "orders.drop('churn', axis=1, inplace=True)\n",
    "promos.drop('churn', axis=1, inplace=True)\n",
    "calls.drop('churn', axis=1, inplace=True)\n",
    "\n",
    "orders.to_csv(\"orders.csv\")\n",
    "promos.to_csv(\"promos.csv\")\n",
    "calls.to_csv(\"calls.csv\")"
   ]
  }
 ],
 "metadata": {
  "kernelspec": {
   "display_name": "Python 2",
   "language": "python",
   "name": "python2"
  },
  "language_info": {
   "codemirror_mode": {
    "name": "ipython",
    "version": 2
   },
   "file_extension": ".py",
   "mimetype": "text/x-python",
   "name": "python",
   "nbconvert_exporter": "python",
   "pygments_lexer": "ipython2",
   "version": "2.7.11"
  }
 },
 "nbformat": 4,
 "nbformat_minor": 0
}
