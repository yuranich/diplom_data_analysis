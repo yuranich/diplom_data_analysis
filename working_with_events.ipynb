{
 "cells": [
  {
   "cell_type": "code",
   "execution_count": 1,
   "metadata": {
    "collapsed": true
   },
   "outputs": [],
   "source": [
    "import pandas as pd"
   ]
  },
  {
   "cell_type": "code",
   "execution_count": 2,
   "metadata": {
    "collapsed": false
   },
   "outputs": [
    {
     "data": {
      "text/html": [
       "<div>\n",
       "<table border=\"1\" class=\"dataframe\">\n",
       "  <thead>\n",
       "    <tr style=\"text-align: right;\">\n",
       "      <th></th>\n",
       "      <th>account</th>\n",
       "      <th>order</th>\n",
       "      <th>date</th>\n",
       "      <th>source</th>\n",
       "      <th>details</th>\n",
       "      <th>event</th>\n",
       "      <th>churn</th>\n",
       "    </tr>\n",
       "  </thead>\n",
       "  <tbody>\n",
       "    <tr>\n",
       "      <th>0</th>\n",
       "      <td>150-3302</td>\n",
       "      <td>order:UP</td>\n",
       "      <td>2012-03-05</td>\n",
       "      <td>user</td>\n",
       "      <td>Order: UP</td>\n",
       "      <td>2859969</td>\n",
       "      <td>0</td>\n",
       "    </tr>\n",
       "    <tr>\n",
       "      <th>1</th>\n",
       "      <td>150-3302</td>\n",
       "      <td>order:DW</td>\n",
       "      <td>2011-07-19</td>\n",
       "      <td>user</td>\n",
       "      <td>Order: DW</td>\n",
       "      <td>2859970</td>\n",
       "      <td>0</td>\n",
       "    </tr>\n",
       "    <tr>\n",
       "      <th>2</th>\n",
       "      <td>150-3302</td>\n",
       "      <td>order:IN</td>\n",
       "      <td>2011-05-04</td>\n",
       "      <td>user</td>\n",
       "      <td>Order: IN</td>\n",
       "      <td>2859971</td>\n",
       "      <td>0</td>\n",
       "    </tr>\n",
       "    <tr>\n",
       "      <th>3</th>\n",
       "      <td>150-3302</td>\n",
       "      <td>order:NP</td>\n",
       "      <td>2015-07-01</td>\n",
       "      <td>user</td>\n",
       "      <td>Order: NP</td>\n",
       "      <td>2859972</td>\n",
       "      <td>0</td>\n",
       "    </tr>\n",
       "    <tr>\n",
       "      <th>4</th>\n",
       "      <td>150-3302</td>\n",
       "      <td>order:UP</td>\n",
       "      <td>2013-08-20</td>\n",
       "      <td>user</td>\n",
       "      <td>Order: UP</td>\n",
       "      <td>2859973</td>\n",
       "      <td>0</td>\n",
       "    </tr>\n",
       "  </tbody>\n",
       "</table>\n",
       "</div>"
      ],
      "text/plain": [
       "    account     order        date source    details    event  churn\n",
       "0  150-3302  order:UP  2012-03-05   user  Order: UP  2859969      0\n",
       "1  150-3302  order:DW  2011-07-19   user  Order: DW  2859970      0\n",
       "2  150-3302  order:IN  2011-05-04   user  Order: IN  2859971      0\n",
       "3  150-3302  order:NP  2015-07-01   user  Order: NP  2859972      0\n",
       "4  150-3302  order:UP  2013-08-20   user  Order: UP  2859973      0"
      ]
     },
     "execution_count": 2,
     "metadata": {},
     "output_type": "execute_result"
    }
   ],
   "source": [
    "events = pd.read_csv(\"events_ful.csv\", header=None)\n",
    "events.drop(5, axis=1, inplace=True)\n",
    "events.columns = ['account', 'order', 'date', 'source', 'details', 'event', 'churn']\n",
    "events.head()"
   ]
  },
  {
   "cell_type": "code",
   "execution_count": 3,
   "metadata": {
    "collapsed": false
   },
   "outputs": [
    {
     "name": "stdout",
     "output_type": "stream",
     "text": [
      "<class 'pandas.core.frame.DataFrame'>\n",
      "RangeIndex: 650734 entries, 0 to 650733\n",
      "Data columns (total 7 columns):\n",
      "account    650734 non-null object\n",
      "order      650734 non-null object\n",
      "date       650734 non-null object\n",
      "source     650734 non-null object\n",
      "details    650734 non-null object\n",
      "event      650734 non-null int64\n",
      "churn      650734 non-null int64\n",
      "dtypes: int64(2), object(5)\n",
      "memory usage: 34.8+ MB\n"
     ]
    }
   ],
   "source": [
    "events.info()"
   ]
  },
  {
   "cell_type": "code",
   "execution_count": null,
   "metadata": {
    "collapsed": true
   },
   "outputs": [],
   "source": [
    "events."
   ]
  }
 ],
 "metadata": {
  "kernelspec": {
   "display_name": "Python 2",
   "language": "python",
   "name": "python2"
  },
  "language_info": {
   "codemirror_mode": {
    "name": "ipython",
    "version": 2
   },
   "file_extension": ".py",
   "mimetype": "text/x-python",
   "name": "python",
   "nbconvert_exporter": "python",
   "pygments_lexer": "ipython2",
   "version": "2.7.11"
  }
 },
 "nbformat": 4,
 "nbformat_minor": 0
}
