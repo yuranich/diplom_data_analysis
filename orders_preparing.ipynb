{
 "cells": [
  {
   "cell_type": "code",
   "execution_count": 1,
   "metadata": {
    "collapsed": true
   },
   "outputs": [],
   "source": [
    "import pandas as pd"
   ]
  },
  {
   "cell_type": "code",
   "execution_count": 2,
   "metadata": {
    "collapsed": false
   },
   "outputs": [
    {
     "data": {
      "text/html": [
       "<div>\n",
       "<table border=\"1\" class=\"dataframe\">\n",
       "  <thead>\n",
       "    <tr style=\"text-align: right;\">\n",
       "      <th></th>\n",
       "      <th>user_id</th>\n",
       "      <th>site_id</th>\n",
       "      <th>account_id</th>\n",
       "      <th>order_action</th>\n",
       "      <th>date</th>\n",
       "      <th>source</th>\n",
       "    </tr>\n",
       "  </thead>\n",
       "  <tbody>\n",
       "    <tr>\n",
       "      <th>0</th>\n",
       "      <td>150-3302</td>\n",
       "      <td>150</td>\n",
       "      <td>3302</td>\n",
       "      <td>UP</td>\n",
       "      <td>2012-03-05</td>\n",
       "      <td>user</td>\n",
       "    </tr>\n",
       "    <tr>\n",
       "      <th>1</th>\n",
       "      <td>150-3302</td>\n",
       "      <td>150</td>\n",
       "      <td>3302</td>\n",
       "      <td>DW</td>\n",
       "      <td>2011-07-19</td>\n",
       "      <td>user</td>\n",
       "    </tr>\n",
       "    <tr>\n",
       "      <th>2</th>\n",
       "      <td>150-3302</td>\n",
       "      <td>150</td>\n",
       "      <td>3302</td>\n",
       "      <td>IN</td>\n",
       "      <td>2011-05-04</td>\n",
       "      <td>user</td>\n",
       "    </tr>\n",
       "    <tr>\n",
       "      <th>3</th>\n",
       "      <td>150-3302</td>\n",
       "      <td>150</td>\n",
       "      <td>3302</td>\n",
       "      <td>NP</td>\n",
       "      <td>2015-07-01</td>\n",
       "      <td>user</td>\n",
       "    </tr>\n",
       "    <tr>\n",
       "      <th>4</th>\n",
       "      <td>150-3302</td>\n",
       "      <td>150</td>\n",
       "      <td>3302</td>\n",
       "      <td>UP</td>\n",
       "      <td>2013-08-20</td>\n",
       "      <td>user</td>\n",
       "    </tr>\n",
       "  </tbody>\n",
       "</table>\n",
       "</div>"
      ],
      "text/plain": [
       "    user_id  site_id  account_id order_action        date source\n",
       "0  150-3302      150        3302           UP  2012-03-05   user\n",
       "1  150-3302      150        3302           DW  2011-07-19   user\n",
       "2  150-3302      150        3302           IN  2011-05-04   user\n",
       "3  150-3302      150        3302           NP  2015-07-01   user\n",
       "4  150-3302      150        3302           UP  2013-08-20   user"
      ]
     },
     "execution_count": 2,
     "metadata": {},
     "output_type": "execute_result"
    }
   ],
   "source": [
    "orders = pd.read_csv(\"splitted_events/orders.csv\")\n",
    "orders.head()"
   ]
  },
  {
   "cell_type": "code",
   "execution_count": 3,
   "metadata": {
    "collapsed": false
   },
   "outputs": [
    {
     "data": {
      "text/plain": [
       "400    77269\n",
       "811    63421\n",
       "150    46807\n",
       "106    46528\n",
       "Name: site_id, dtype: int64"
      ]
     },
     "execution_count": 3,
     "metadata": {},
     "output_type": "execute_result"
    }
   ],
   "source": [
    "orders.site_id.value_counts()"
   ]
  },
  {
   "cell_type": "code",
   "execution_count": 4,
   "metadata": {
    "collapsed": false
   },
   "outputs": [
    {
     "data": {
      "text/plain": [
       "UP    58156\n",
       "TC    57113\n",
       "NP    36646\n",
       "DW    32550\n",
       "SR    22024\n",
       "IN    20826\n",
       "DI     4960\n",
       "RS     1750\n",
       "Name: order_action, dtype: int64"
      ]
     },
     "execution_count": 4,
     "metadata": {},
     "output_type": "execute_result"
    }
   ],
   "source": [
    "orders.order_action.value_counts()"
   ]
  },
  {
   "cell_type": "code",
   "execution_count": 5,
   "metadata": {
    "collapsed": false
   },
   "outputs": [
    {
     "data": {
      "text/plain": [
       "user    234025\n",
       "Name: source, dtype: int64"
      ]
     },
     "execution_count": 5,
     "metadata": {},
     "output_type": "execute_result"
    }
   ],
   "source": [
    "orders.source.value_counts()"
   ]
  },
  {
   "cell_type": "markdown",
   "metadata": {},
   "source": [
    "#### Выясним, нет ли разных пользователей с повторяющимися account_id"
   ]
  },
  {
   "cell_type": "code",
   "execution_count": 6,
   "metadata": {
    "collapsed": false
   },
   "outputs": [
    {
     "name": "stdout",
     "output_type": "stream",
     "text": [
      "account:  87338602  is not unique\n",
      "account:  604186501  is not unique\n",
      "account:  604735601  is not unique\n",
      "account:  611700802  is not unique\n",
      "account:  616358701  is not unique\n"
     ]
    }
   ],
   "source": [
    "for acc in orders.account_id.unique():\n",
    "    sites = orders[orders.account_id == acc].site_id\n",
    "    if len(sites.unique()) > 1:\n",
    "        print 'account: ', acc, ' is not unique'\n"
   ]
  },
  {
   "cell_type": "markdown",
   "metadata": {},
   "source": [
    "Как видим, такие пользователи есть."
   ]
  },
  {
   "cell_type": "code",
   "execution_count": 7,
   "metadata": {
    "collapsed": false,
    "scrolled": true
   },
   "outputs": [
    {
     "data": {
      "text/html": [
       "<div>\n",
       "<table border=\"1\" class=\"dataframe\">\n",
       "  <thead>\n",
       "    <tr style=\"text-align: right;\">\n",
       "      <th></th>\n",
       "      <th>user_id</th>\n",
       "      <th>site_id</th>\n",
       "      <th>account_id</th>\n",
       "      <th>call</th>\n",
       "      <th>date</th>\n",
       "      <th>source</th>\n",
       "    </tr>\n",
       "  </thead>\n",
       "  <tbody>\n",
       "    <tr>\n",
       "      <th>0</th>\n",
       "      <td>150-3302</td>\n",
       "      <td>150</td>\n",
       "      <td>3302</td>\n",
       "      <td>Balance Question</td>\n",
       "      <td>2015-09-21</td>\n",
       "      <td>user</td>\n",
       "    </tr>\n",
       "    <tr>\n",
       "      <th>1</th>\n",
       "      <td>106-22403</td>\n",
       "      <td>106</td>\n",
       "      <td>22403</td>\n",
       "      <td>TV Channel Problem/Tiling</td>\n",
       "      <td>2015-02-14</td>\n",
       "      <td>user</td>\n",
       "    </tr>\n",
       "    <tr>\n",
       "      <th>2</th>\n",
       "      <td>106-32501</td>\n",
       "      <td>106</td>\n",
       "      <td>32501</td>\n",
       "      <td>Where is Tech</td>\n",
       "      <td>2015-02-13</td>\n",
       "      <td>user</td>\n",
       "    </tr>\n",
       "    <tr>\n",
       "      <th>3</th>\n",
       "      <td>106-76201</td>\n",
       "      <td>106</td>\n",
       "      <td>76201</td>\n",
       "      <td>Make Payment</td>\n",
       "      <td>2015-06-01</td>\n",
       "      <td>user</td>\n",
       "    </tr>\n",
       "    <tr>\n",
       "      <th>4</th>\n",
       "      <td>106-76201</td>\n",
       "      <td>106</td>\n",
       "      <td>76201</td>\n",
       "      <td>Fix Outside Wires</td>\n",
       "      <td>2015-07-15</td>\n",
       "      <td>user</td>\n",
       "    </tr>\n",
       "  </tbody>\n",
       "</table>\n",
       "</div>"
      ],
      "text/plain": [
       "     user_id  site_id  account_id                       call        date  \\\n",
       "0   150-3302      150        3302           Balance Question  2015-09-21   \n",
       "1  106-22403      106       22403  TV Channel Problem/Tiling  2015-02-14   \n",
       "2  106-32501      106       32501              Where is Tech  2015-02-13   \n",
       "3  106-76201      106       76201               Make Payment  2015-06-01   \n",
       "4  106-76201      106       76201          Fix Outside Wires  2015-07-15   \n",
       "\n",
       "  source  \n",
       "0   user  \n",
       "1   user  \n",
       "2   user  \n",
       "3   user  \n",
       "4   user  "
      ]
     },
     "execution_count": 7,
     "metadata": {},
     "output_type": "execute_result"
    }
   ],
   "source": [
    "calls = pd.read_csv(\"splitted_events/calls.csv\")\n",
    "calls.head()"
   ]
  },
  {
   "cell_type": "code",
   "execution_count": 8,
   "metadata": {
    "collapsed": false
   },
   "outputs": [
    {
     "data": {
      "text/plain": [
       "Bill Question                           11306\n",
       "Balance Question                         5237\n",
       "Make Payment                             2486\n",
       "Service not working                      2007\n",
       "Need Bill Extension                      1128\n",
       "Past Due                                  868\n",
       "Where is Tech                             669\n",
       "Reschedule Appt                           668\n",
       "Check on Status                           532\n",
       "Need Bill                                 363\n",
       "Change Info                               312\n",
       "Ghost Call                                202\n",
       "Full Account Disconnect                   104\n",
       "Downgrade                                  90\n",
       "How to use feature                         87\n",
       "TV Channel Problem/Tiling                  77\n",
       "New Service                                70\n",
       "Reduce My Bill                             54\n",
       "Fix Inside Wires                           53\n",
       "Had Feedback & Questions                   52\n",
       "Trouble Installing Self- Install kit       47\n",
       "Fix Outside Wires                          47\n",
       "Product never worked                       45\n",
       "Faster Free Inquiry                        44\n",
       "Explain Data Allowance Plan                42\n",
       "Want to Upgrade                            34\n",
       "Remote Education                           31\n",
       "Add Services                               30\n",
       "Not getting Promised Speed                 30\n",
       "Explain Promos                             29\n",
       "Walled Garden Error                        26\n",
       "Tech not arrived                           25\n",
       "Moving                                     22\n",
       "Need Credit                                20\n",
       "Need New Equipment                         18\n",
       "Order modem swap                           16\n",
       "Checking on shipment                       16\n",
       "Email Issues                               15\n",
       "Storm                                      14\n",
       "Programming Disputes                       10\n",
       "Payment failed online.IVR                   9\n",
       "Price Shopping                              8\n",
       "Paid but disconnected                       7\n",
       "Adding Wifi Device                          5\n",
       "Need SSID/ Password                         5\n",
       "Want Promos                                 4\n",
       "Wi-Fi Issues                                4\n",
       "Missing Channels                            2\n",
       "No Dial Tone                                2\n",
       "Not Receiving Calls                         2\n",
       "PPV Issue                                   2\n",
       "Bill Looks Different                        1\n",
       "No Picture                                  1\n",
       "Guide Issue                                 1\n",
       "Name: call, dtype: int64"
      ]
     },
     "execution_count": 8,
     "metadata": {},
     "output_type": "execute_result"
    }
   ],
   "source": [
    "calls.call.value_counts()"
   ]
  },
  {
   "cell_type": "code",
   "execution_count": 8,
   "metadata": {
    "collapsed": false
   },
   "outputs": [],
   "source": [
    "calls = calls.rename(columns={\"call\" : \"action\"})"
   ]
  },
  {
   "cell_type": "code",
   "execution_count": 9,
   "metadata": {
    "collapsed": false
   },
   "outputs": [
    {
     "data": {
      "text/html": [
       "<div>\n",
       "<table border=\"1\" class=\"dataframe\">\n",
       "  <thead>\n",
       "    <tr style=\"text-align: right;\">\n",
       "      <th></th>\n",
       "      <th>user_id</th>\n",
       "      <th>site_id</th>\n",
       "      <th>account_id</th>\n",
       "      <th>action</th>\n",
       "      <th>date</th>\n",
       "      <th>source</th>\n",
       "    </tr>\n",
       "  </thead>\n",
       "  <tbody>\n",
       "    <tr>\n",
       "      <th>0</th>\n",
       "      <td>150-3302</td>\n",
       "      <td>150</td>\n",
       "      <td>3302</td>\n",
       "      <td>Balance Question</td>\n",
       "      <td>2015-09-21</td>\n",
       "      <td>user</td>\n",
       "    </tr>\n",
       "    <tr>\n",
       "      <th>1</th>\n",
       "      <td>106-22403</td>\n",
       "      <td>106</td>\n",
       "      <td>22403</td>\n",
       "      <td>TV Channel Problem/Tiling</td>\n",
       "      <td>2015-02-14</td>\n",
       "      <td>user</td>\n",
       "    </tr>\n",
       "    <tr>\n",
       "      <th>2</th>\n",
       "      <td>106-32501</td>\n",
       "      <td>106</td>\n",
       "      <td>32501</td>\n",
       "      <td>Where is Tech</td>\n",
       "      <td>2015-02-13</td>\n",
       "      <td>user</td>\n",
       "    </tr>\n",
       "    <tr>\n",
       "      <th>3</th>\n",
       "      <td>106-76201</td>\n",
       "      <td>106</td>\n",
       "      <td>76201</td>\n",
       "      <td>Make Payment</td>\n",
       "      <td>2015-06-01</td>\n",
       "      <td>user</td>\n",
       "    </tr>\n",
       "    <tr>\n",
       "      <th>4</th>\n",
       "      <td>106-76201</td>\n",
       "      <td>106</td>\n",
       "      <td>76201</td>\n",
       "      <td>Fix Outside Wires</td>\n",
       "      <td>2015-07-15</td>\n",
       "      <td>user</td>\n",
       "    </tr>\n",
       "  </tbody>\n",
       "</table>\n",
       "</div>"
      ],
      "text/plain": [
       "     user_id  site_id  account_id                     action        date  \\\n",
       "0   150-3302      150        3302           Balance Question  2015-09-21   \n",
       "1  106-22403      106       22403  TV Channel Problem/Tiling  2015-02-14   \n",
       "2  106-32501      106       32501              Where is Tech  2015-02-13   \n",
       "3  106-76201      106       76201               Make Payment  2015-06-01   \n",
       "4  106-76201      106       76201          Fix Outside Wires  2015-07-15   \n",
       "\n",
       "  source  \n",
       "0   user  \n",
       "1   user  \n",
       "2   user  \n",
       "3   user  \n",
       "4   user  "
      ]
     },
     "execution_count": 9,
     "metadata": {},
     "output_type": "execute_result"
    }
   ],
   "source": [
    "calls.head()"
   ]
  },
  {
   "cell_type": "code",
   "execution_count": 10,
   "metadata": {
    "collapsed": false
   },
   "outputs": [
    {
     "data": {
      "text/html": [
       "<div>\n",
       "<table border=\"1\" class=\"dataframe\">\n",
       "  <thead>\n",
       "    <tr style=\"text-align: right;\">\n",
       "      <th></th>\n",
       "      <th>user_id</th>\n",
       "      <th>site_id</th>\n",
       "      <th>account_id</th>\n",
       "      <th>action</th>\n",
       "      <th>date</th>\n",
       "      <th>source</th>\n",
       "    </tr>\n",
       "  </thead>\n",
       "  <tbody>\n",
       "    <tr>\n",
       "      <th>0</th>\n",
       "      <td>150-3302</td>\n",
       "      <td>150</td>\n",
       "      <td>3302</td>\n",
       "      <td>UP</td>\n",
       "      <td>2012-03-05</td>\n",
       "      <td>user</td>\n",
       "    </tr>\n",
       "    <tr>\n",
       "      <th>1</th>\n",
       "      <td>150-3302</td>\n",
       "      <td>150</td>\n",
       "      <td>3302</td>\n",
       "      <td>DW</td>\n",
       "      <td>2011-07-19</td>\n",
       "      <td>user</td>\n",
       "    </tr>\n",
       "    <tr>\n",
       "      <th>2</th>\n",
       "      <td>150-3302</td>\n",
       "      <td>150</td>\n",
       "      <td>3302</td>\n",
       "      <td>IN</td>\n",
       "      <td>2011-05-04</td>\n",
       "      <td>user</td>\n",
       "    </tr>\n",
       "    <tr>\n",
       "      <th>3</th>\n",
       "      <td>150-3302</td>\n",
       "      <td>150</td>\n",
       "      <td>3302</td>\n",
       "      <td>NP</td>\n",
       "      <td>2015-07-01</td>\n",
       "      <td>user</td>\n",
       "    </tr>\n",
       "    <tr>\n",
       "      <th>4</th>\n",
       "      <td>150-3302</td>\n",
       "      <td>150</td>\n",
       "      <td>3302</td>\n",
       "      <td>UP</td>\n",
       "      <td>2013-08-20</td>\n",
       "      <td>user</td>\n",
       "    </tr>\n",
       "  </tbody>\n",
       "</table>\n",
       "</div>"
      ],
      "text/plain": [
       "    user_id  site_id  account_id action        date source\n",
       "0  150-3302      150        3302     UP  2012-03-05   user\n",
       "1  150-3302      150        3302     DW  2011-07-19   user\n",
       "2  150-3302      150        3302     IN  2011-05-04   user\n",
       "3  150-3302      150        3302     NP  2015-07-01   user\n",
       "4  150-3302      150        3302     UP  2013-08-20   user"
      ]
     },
     "execution_count": 10,
     "metadata": {},
     "output_type": "execute_result"
    }
   ],
   "source": [
    "orders = orders.rename(columns={\"order_action\":\"action\"})\n",
    "orders.head()"
   ]
  },
  {
   "cell_type": "code",
   "execution_count": 11,
   "metadata": {
    "collapsed": true
   },
   "outputs": [],
   "source": [
    "order_calls = pd.concat([orders, calls])"
   ]
  },
  {
   "cell_type": "code",
   "execution_count": 12,
   "metadata": {
    "collapsed": false
   },
   "outputs": [
    {
     "name": "stdout",
     "output_type": "stream",
     "text": [
      "<class 'pandas.core.frame.DataFrame'>\n",
      "RangeIndex: 234025 entries, 0 to 234024\n",
      "Data columns (total 6 columns):\n",
      "user_id       234025 non-null object\n",
      "site_id       234025 non-null int64\n",
      "account_id    234025 non-null int64\n",
      "action        234025 non-null object\n",
      "date          234025 non-null object\n",
      "source        234025 non-null object\n",
      "dtypes: int64(2), object(4)\n",
      "memory usage: 10.7+ MB\n"
     ]
    }
   ],
   "source": [
    "orders.info()"
   ]
  },
  {
   "cell_type": "code",
   "execution_count": 13,
   "metadata": {
    "collapsed": false
   },
   "outputs": [
    {
     "name": "stdout",
     "output_type": "stream",
     "text": [
      "<class 'pandas.core.frame.DataFrame'>\n",
      "RangeIndex: 26979 entries, 0 to 26978\n",
      "Data columns (total 6 columns):\n",
      "user_id       26979 non-null object\n",
      "site_id       26979 non-null int64\n",
      "account_id    26979 non-null int64\n",
      "action        26979 non-null object\n",
      "date          26979 non-null object\n",
      "source        26979 non-null object\n",
      "dtypes: int64(2), object(4)\n",
      "memory usage: 1.2+ MB\n"
     ]
    }
   ],
   "source": [
    "calls.info()"
   ]
  },
  {
   "cell_type": "code",
   "execution_count": 14,
   "metadata": {
    "collapsed": false,
    "scrolled": true
   },
   "outputs": [
    {
     "name": "stdout",
     "output_type": "stream",
     "text": [
      "<class 'pandas.core.frame.DataFrame'>\n",
      "Int64Index: 261004 entries, 0 to 26978\n",
      "Data columns (total 6 columns):\n",
      "user_id       261004 non-null object\n",
      "site_id       261004 non-null int64\n",
      "account_id    261004 non-null int64\n",
      "action        261004 non-null object\n",
      "date          261004 non-null object\n",
      "source        261004 non-null object\n",
      "dtypes: int64(2), object(4)\n",
      "memory usage: 13.9+ MB\n"
     ]
    }
   ],
   "source": [
    "order_calls.info()"
   ]
  },
  {
   "cell_type": "code",
   "execution_count": 15,
   "metadata": {
    "collapsed": false
   },
   "outputs": [
    {
     "data": {
      "text/html": [
       "<div>\n",
       "<table border=\"1\" class=\"dataframe\">\n",
       "  <thead>\n",
       "    <tr style=\"text-align: right;\">\n",
       "      <th></th>\n",
       "      <th>user_id</th>\n",
       "      <th>site_id</th>\n",
       "      <th>account_id</th>\n",
       "      <th>action</th>\n",
       "      <th>date</th>\n",
       "      <th>source</th>\n",
       "    </tr>\n",
       "  </thead>\n",
       "  <tbody>\n",
       "    <tr>\n",
       "      <th>97457</th>\n",
       "      <td>106-100000503</td>\n",
       "      <td>106</td>\n",
       "      <td>100000503</td>\n",
       "      <td>IN</td>\n",
       "      <td>2011-02-15</td>\n",
       "      <td>user</td>\n",
       "    </tr>\n",
       "    <tr>\n",
       "      <th>97458</th>\n",
       "      <td>106-100000503</td>\n",
       "      <td>106</td>\n",
       "      <td>100000503</td>\n",
       "      <td>UP</td>\n",
       "      <td>2011-02-18</td>\n",
       "      <td>user</td>\n",
       "    </tr>\n",
       "    <tr>\n",
       "      <th>97455</th>\n",
       "      <td>106-100000503</td>\n",
       "      <td>106</td>\n",
       "      <td>100000503</td>\n",
       "      <td>UP</td>\n",
       "      <td>2014-02-11</td>\n",
       "      <td>user</td>\n",
       "    </tr>\n",
       "    <tr>\n",
       "      <th>97456</th>\n",
       "      <td>106-100000503</td>\n",
       "      <td>106</td>\n",
       "      <td>100000503</td>\n",
       "      <td>UP</td>\n",
       "      <td>2015-03-16</td>\n",
       "      <td>user</td>\n",
       "    </tr>\n",
       "    <tr>\n",
       "      <th>9327</th>\n",
       "      <td>106-100000503</td>\n",
       "      <td>106</td>\n",
       "      <td>100000503</td>\n",
       "      <td>Bill Question</td>\n",
       "      <td>2015-03-24</td>\n",
       "      <td>user</td>\n",
       "    </tr>\n",
       "    <tr>\n",
       "      <th>9328</th>\n",
       "      <td>106-100000503</td>\n",
       "      <td>106</td>\n",
       "      <td>100000503</td>\n",
       "      <td>Bill Question</td>\n",
       "      <td>2015-03-24</td>\n",
       "      <td>user</td>\n",
       "    </tr>\n",
       "    <tr>\n",
       "      <th>97475</th>\n",
       "      <td>106-100010603</td>\n",
       "      <td>106</td>\n",
       "      <td>100010603</td>\n",
       "      <td>UP</td>\n",
       "      <td>2008-12-10</td>\n",
       "      <td>user</td>\n",
       "    </tr>\n",
       "    <tr>\n",
       "      <th>97476</th>\n",
       "      <td>106-100010603</td>\n",
       "      <td>106</td>\n",
       "      <td>100010603</td>\n",
       "      <td>TC</td>\n",
       "      <td>2008-12-29</td>\n",
       "      <td>user</td>\n",
       "    </tr>\n",
       "    <tr>\n",
       "      <th>97477</th>\n",
       "      <td>106-100010603</td>\n",
       "      <td>106</td>\n",
       "      <td>100010603</td>\n",
       "      <td>TC</td>\n",
       "      <td>2009-01-02</td>\n",
       "      <td>user</td>\n",
       "    </tr>\n",
       "    <tr>\n",
       "      <th>97478</th>\n",
       "      <td>106-100010603</td>\n",
       "      <td>106</td>\n",
       "      <td>100010603</td>\n",
       "      <td>TC</td>\n",
       "      <td>2009-02-07</td>\n",
       "      <td>user</td>\n",
       "    </tr>\n",
       "  </tbody>\n",
       "</table>\n",
       "</div>"
      ],
      "text/plain": [
       "             user_id  site_id  account_id         action        date source\n",
       "97457  106-100000503      106   100000503             IN  2011-02-15   user\n",
       "97458  106-100000503      106   100000503             UP  2011-02-18   user\n",
       "97455  106-100000503      106   100000503             UP  2014-02-11   user\n",
       "97456  106-100000503      106   100000503             UP  2015-03-16   user\n",
       "9327   106-100000503      106   100000503  Bill Question  2015-03-24   user\n",
       "9328   106-100000503      106   100000503  Bill Question  2015-03-24   user\n",
       "97475  106-100010603      106   100010603             UP  2008-12-10   user\n",
       "97476  106-100010603      106   100010603             TC  2008-12-29   user\n",
       "97477  106-100010603      106   100010603             TC  2009-01-02   user\n",
       "97478  106-100010603      106   100010603             TC  2009-02-07   user"
      ]
     },
     "execution_count": 15,
     "metadata": {},
     "output_type": "execute_result"
    }
   ],
   "source": [
    "oc_sorted = order_calls.sort_values(['user_id', 'date'])\n",
    "oc_sorted[:10]"
   ]
  },
  {
   "cell_type": "code",
   "execution_count": 19,
   "metadata": {
    "collapsed": false
   },
   "outputs": [
    {
     "data": {
      "text/html": [
       "<div>\n",
       "<table border=\"1\" class=\"dataframe\">\n",
       "  <thead>\n",
       "    <tr style=\"text-align: right;\">\n",
       "      <th></th>\n",
       "      <th>case_id</th>\n",
       "      <th>source</th>\n",
       "      <th>site_id</th>\n",
       "      <th>account_id</th>\n",
       "      <th>activity</th>\n",
       "      <th>date</th>\n",
       "      <th>initiator</th>\n",
       "    </tr>\n",
       "  </thead>\n",
       "  <tbody>\n",
       "    <tr>\n",
       "      <th>97457</th>\n",
       "      <td>106-100000503</td>\n",
       "      <td>106-100000503</td>\n",
       "      <td>106</td>\n",
       "      <td>100000503</td>\n",
       "      <td>IN</td>\n",
       "      <td>2011-02-15</td>\n",
       "      <td>user</td>\n",
       "    </tr>\n",
       "    <tr>\n",
       "      <th>97458</th>\n",
       "      <td>106-100000503</td>\n",
       "      <td>106-100000503</td>\n",
       "      <td>106</td>\n",
       "      <td>100000503</td>\n",
       "      <td>UP</td>\n",
       "      <td>2011-02-18</td>\n",
       "      <td>user</td>\n",
       "    </tr>\n",
       "    <tr>\n",
       "      <th>97455</th>\n",
       "      <td>106-100000503</td>\n",
       "      <td>106-100000503</td>\n",
       "      <td>106</td>\n",
       "      <td>100000503</td>\n",
       "      <td>UP</td>\n",
       "      <td>2014-02-11</td>\n",
       "      <td>user</td>\n",
       "    </tr>\n",
       "    <tr>\n",
       "      <th>97456</th>\n",
       "      <td>106-100000503</td>\n",
       "      <td>106-100000503</td>\n",
       "      <td>106</td>\n",
       "      <td>100000503</td>\n",
       "      <td>UP</td>\n",
       "      <td>2015-03-16</td>\n",
       "      <td>user</td>\n",
       "    </tr>\n",
       "    <tr>\n",
       "      <th>9327</th>\n",
       "      <td>106-100000503</td>\n",
       "      <td>106-100000503</td>\n",
       "      <td>106</td>\n",
       "      <td>100000503</td>\n",
       "      <td>Bill Question</td>\n",
       "      <td>2015-03-24</td>\n",
       "      <td>user</td>\n",
       "    </tr>\n",
       "  </tbody>\n",
       "</table>\n",
       "</div>"
      ],
      "text/plain": [
       "             case_id         source  site_id  account_id       activity  \\\n",
       "97457  106-100000503  106-100000503      106   100000503             IN   \n",
       "97458  106-100000503  106-100000503      106   100000503             UP   \n",
       "97455  106-100000503  106-100000503      106   100000503             UP   \n",
       "97456  106-100000503  106-100000503      106   100000503             UP   \n",
       "9327   106-100000503  106-100000503      106   100000503  Bill Question   \n",
       "\n",
       "             date initiator  \n",
       "97457  2011-02-15      user  \n",
       "97458  2011-02-18      user  \n",
       "97455  2014-02-11      user  \n",
       "97456  2015-03-16      user  \n",
       "9327   2015-03-24      user  "
      ]
     },
     "execution_count": 19,
     "metadata": {},
     "output_type": "execute_result"
    }
   ],
   "source": [
    "##oc_sorted.to_csv('splitted_events/orders_with_calls.csv', index=False)\n",
    "case_id = oc_sorted.user_id.copy()\n",
    "to_prom = oc_sorted\n",
    "# to_prom.insert(0, 'case_id', case_id)\n",
    "to_prom = to_prom.rename(columns={'source':'initiator', 'user_id':'source', 'action':'activity'})\n",
    "to_prom.head()"
   ]
  },
  {
   "cell_type": "code",
   "execution_count": 20,
   "metadata": {
    "collapsed": false
   },
   "outputs": [],
   "source": [
    "to_prom.to_csv(\"splitted_events/to_prom_orders.csv\", index=False)"
   ]
  }
 ],
 "metadata": {
  "kernelspec": {
   "display_name": "Python 2",
   "language": "python",
   "name": "python2"
  },
  "language_info": {
   "codemirror_mode": {
    "name": "ipython",
    "version": 2
   },
   "file_extension": ".py",
   "mimetype": "text/x-python",
   "name": "python",
   "nbconvert_exporter": "python",
   "pygments_lexer": "ipython2",
   "version": "2.7.11"
  }
 },
 "nbformat": 4,
 "nbformat_minor": 0
}
